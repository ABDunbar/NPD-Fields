{
 "cells": [
  {
   "cell_type": "code",
   "execution_count": 1,
   "metadata": {},
   "outputs": [],
   "source": [
    "import pandas as pd\n",
    "import numpy as np\n",
    "import matplotlib.pyplot as plt\n",
    "import seaborn as sns\n",
    "%matplotlib inline\n",
    "\n",
    "pd.options.display.max_rows = 500"
   ]
  },
  {
   "cell_type": "code",
   "execution_count": 2,
   "metadata": {},
   "outputs": [],
   "source": [
    "fields = ['field_overview',\n",
    "          'field_status',\n",
    "          'field_operators',\n",
    "          'field_owners',\n",
    "          'field_licensees',\n",
    "          'field_reserves',\n",
    "          'field_inplaceVol',\n",
    "          'field_description',\n",
    "         ]"
   ]
  },
  {
   "cell_type": "code",
   "execution_count": 3,
   "metadata": {},
   "outputs": [],
   "source": [
    "from load import load"
   ]
  },
  {
   "cell_type": "markdown",
   "metadata": {},
   "source": [
    "# Overview"
   ]
  },
  {
   "cell_type": "code",
   "execution_count": 4,
   "metadata": {},
   "outputs": [],
   "source": [
    "overview = load(fields[0])"
   ]
  },
  {
   "cell_type": "code",
   "execution_count": 5,
   "metadata": {},
   "outputs": [],
   "source": [
    "# overview.head()"
   ]
  },
  {
   "cell_type": "code",
   "execution_count": 6,
   "metadata": {},
   "outputs": [
    {
     "data": {
      "text/plain": [
       "fldCurrentActivitySatus\n",
       "Approved for production     9\n",
       "Producing                  90\n",
       "Shut down                  25\n",
       "dtype: int64"
      ]
     },
     "execution_count": 6,
     "metadata": {},
     "output_type": "execute_result"
    }
   ],
   "source": [
    "overview.groupby('fldCurrentActivitySatus').size()"
   ]
  },
  {
   "cell_type": "code",
   "execution_count": 7,
   "metadata": {},
   "outputs": [],
   "source": [
    "# print(len(overview[overview.fldCurrentActivitySatus=='Shut down'])) # 25 includes NaN\n",
    "# overview[overview['fldCurrentActivitySatus']==\"Shut down\"]['cmpLongName'] # 22 no NaN"
   ]
  },
  {
   "cell_type": "code",
   "execution_count": 8,
   "metadata": {},
   "outputs": [],
   "source": [
    "producing_fields = overview[overview['fldCurrentActivitySatus']=='Producing']['cmpLongName'].value_counts()\n",
    "producing_approved_fields = overview[overview['fldCurrentActivitySatus'].isin(['Approved for production'])]['cmpLongName'].value_counts()\n",
    "shutdown_fields = overview[overview['fldCurrentActivitySatus']==\"Shut down\"]['cmpLongName'].value_counts()"
   ]
  },
  {
   "cell_type": "code",
   "execution_count": 9,
   "metadata": {},
   "outputs": [
    {
     "name": "stdout",
     "output_type": "stream",
     "text": [
      "Number of fields: 124\n",
      "Number of producing fields: 90\n",
      "Number of producing and approved fields: 9\n",
      "Number of shut down fields: 22\n"
     ]
    }
   ],
   "source": [
    "print(f\"Number of fields: {overview.shape[0]}\")\n",
    "print(f\"Number of producing fields: {producing_fields.sum()}\")\n",
    "print(f\"Number of producing and approved fields: {producing_approved_fields.sum()}\")\n",
    "print(f\"Number of shut down fields: {shutdown_fields.sum()}\") # doesn't include 3 NaN entries"
   ]
  },
  {
   "cell_type": "markdown",
   "metadata": {},
   "source": [
    "## Status of Fields by Area"
   ]
  },
  {
   "cell_type": "code",
   "execution_count": 10,
   "metadata": {},
   "outputs": [
    {
     "data": {
      "text/html": [
       "<div>\n",
       "<style scoped>\n",
       "    .dataframe tbody tr th:only-of-type {\n",
       "        vertical-align: middle;\n",
       "    }\n",
       "\n",
       "    .dataframe tbody tr th {\n",
       "        vertical-align: top;\n",
       "    }\n",
       "\n",
       "    .dataframe thead th {\n",
       "        text-align: right;\n",
       "    }\n",
       "</style>\n",
       "<table border=\"1\" class=\"dataframe\">\n",
       "  <thead>\n",
       "    <tr style=\"text-align: right;\">\n",
       "      <th>fldCurrentActivitySatus</th>\n",
       "      <th>Approved for production</th>\n",
       "      <th>Producing</th>\n",
       "      <th>Shut down</th>\n",
       "    </tr>\n",
       "    <tr>\n",
       "      <th>fldMainArea</th>\n",
       "      <th></th>\n",
       "      <th></th>\n",
       "      <th></th>\n",
       "    </tr>\n",
       "  </thead>\n",
       "  <tbody>\n",
       "    <tr>\n",
       "      <th>Barents Sea</th>\n",
       "      <td>1.0</td>\n",
       "      <td>2.0</td>\n",
       "      <td>NaN</td>\n",
       "    </tr>\n",
       "    <tr>\n",
       "      <th>North Sea</th>\n",
       "      <td>6.0</td>\n",
       "      <td>67.0</td>\n",
       "      <td>24.0</td>\n",
       "    </tr>\n",
       "    <tr>\n",
       "      <th>Norwegian Sea</th>\n",
       "      <td>2.0</td>\n",
       "      <td>21.0</td>\n",
       "      <td>1.0</td>\n",
       "    </tr>\n",
       "  </tbody>\n",
       "</table>\n",
       "</div>"
      ],
      "text/plain": [
       "fldCurrentActivitySatus  Approved for production  Producing  Shut down\n",
       "fldMainArea                                                           \n",
       "Barents Sea                                  1.0        2.0        NaN\n",
       "North Sea                                    6.0       67.0       24.0\n",
       "Norwegian Sea                                2.0       21.0        1.0"
      ]
     },
     "execution_count": 10,
     "metadata": {},
     "output_type": "execute_result"
    }
   ],
   "source": [
    "data = overview.groupby(['fldMainArea', 'fldCurrentActivitySatus']).size().unstack()\n",
    "data#.plot(kind='bar', figsize=(10,6))"
   ]
  },
  {
   "cell_type": "markdown",
   "metadata": {},
   "source": [
    "# Operators"
   ]
  },
  {
   "cell_type": "code",
   "execution_count": 11,
   "metadata": {},
   "outputs": [],
   "source": [
    "operators = load(fields[2])"
   ]
  },
  {
   "cell_type": "code",
   "execution_count": 12,
   "metadata": {},
   "outputs": [],
   "source": [
    "# operators.head()"
   ]
  },
  {
   "cell_type": "code",
   "execution_count": 13,
   "metadata": {},
   "outputs": [
    {
     "name": "stdout",
     "output_type": "stream",
     "text": [
      " Number of Operators: 78\n",
      " Number of Fields: 124\n"
     ]
    }
   ],
   "source": [
    "print(f\" Number of Operators: {operators['cmpLongName'].nunique()}\")\n",
    "print(f\" Number of Fields: {operators['fldName'].nunique()}\")"
   ]
  },
  {
   "cell_type": "code",
   "execution_count": 14,
   "metadata": {},
   "outputs": [
    {
     "data": {
      "text/plain": [
       "Equinor Energy AS                   59\n",
       "Aker BP ASA                         19\n",
       "ConocoPhillips Skandinavia AS        9\n",
       "Wintershall Dea Norge AS             5\n",
       "Vår Energi AS                        5\n",
       "Repsol Norge AS                      4\n",
       "Neptune Energy Norge AS              3\n",
       "Lundin Energy Norway AS              3\n",
       "A/S Norske Shell                     3\n",
       "DNO Norge AS                         2\n",
       "Total E&P Norge AS                   2\n",
       "Spirit Energy Norway AS              2\n",
       "Petrogas NEO UK Ltd                  1\n",
       "Chrysaor Norge AS                    1\n",
       "Repsol Sinopec North Sea Limited     1\n",
       "Total E&P UK Ltd                     1\n",
       "OKEA ASA                             1\n",
       "Name: cmpLongName, dtype: int64"
      ]
     },
     "execution_count": 14,
     "metadata": {},
     "output_type": "execute_result"
    }
   ],
   "source": [
    "# Current Operators don't have a date in the 'fldOperatorTo' field\n",
    "operators[operators['fldOperatorTo'].isnull()]['cmpLongName'].value_counts() # 121 - doesn't include NaN"
   ]
  },
  {
   "cell_type": "markdown",
   "metadata": {},
   "source": [
    "# Licensees"
   ]
  },
  {
   "cell_type": "code",
   "execution_count": 15,
   "metadata": {},
   "outputs": [],
   "source": [
    "licensees = load(fields[4])"
   ]
  },
  {
   "cell_type": "code",
   "execution_count": 16,
   "metadata": {},
   "outputs": [],
   "source": [
    "# Current licences don't have a date in 'fldLicenseeTo' field.\n",
    "curr_lic = licensees[licensees.fldLicenseeTo.isnull()]"
   ]
  },
  {
   "cell_type": "markdown",
   "metadata": {},
   "source": [
    "## Current Licensee Companies"
   ]
  },
  {
   "cell_type": "code",
   "execution_count": 17,
   "metadata": {},
   "outputs": [
    {
     "data": {
      "image/png": "[encoded data removed]",
      "text/plain": [
       "<Figure size 2160x432 with 1 Axes>"
      ]
     },
     "metadata": {
      "needs_background": "light"
     },
     "output_type": "display_data"
    }
   ],
   "source": [
    "curr_lic.cmpLongName.value_counts().plot(kind='bar', figsize=(30,6), fontsize=26);"
   ]
  },
  {
   "cell_type": "markdown",
   "metadata": {},
   "source": [
    "## Number of Licensees per Field"
   ]
  },
  {
   "cell_type": "code",
   "execution_count": 18,
   "metadata": {},
   "outputs": [],
   "source": [
    "# curr_lic.groupby('fldName').size()"
   ]
  },
  {
   "cell_type": "code",
   "execution_count": 19,
   "metadata": {},
   "outputs": [
    {
     "name": "stdout",
     "output_type": "stream",
     "text": [
      "Number of Licensees: 232\n",
      "Number of Fields: 124\n"
     ]
    }
   ],
   "source": [
    "print(f\"Number of Licensees: {licensees['cmpLongName'].nunique()}\")\n",
    "print(f\"Number of Fields: {licensees['fldName'].nunique()}\")"
   ]
  },
  {
   "cell_type": "code",
   "execution_count": 20,
   "metadata": {},
   "outputs": [],
   "source": [
    "lotus = licensees[licensees['cmpLongName']=='LOTOS Exploration and Production Norge AS']\n",
    "\n",
    "lotus = lotus.loc[lotus.groupby('fldName').fldLicenseeFrom.idxmax(),:]"
   ]
  },
  {
   "cell_type": "code",
   "execution_count": 21,
   "metadata": {},
   "outputs": [
    {
     "name": "stdout",
     "output_type": "stream",
     "text": [
      "Number of licences: 12\n"
     ]
    }
   ],
   "source": [
    "print(f\"Number of licences: {len(lotus)}\")"
   ]
  },
  {
   "cell_type": "code",
   "execution_count": 22,
   "metadata": {},
   "outputs": [
    {
     "data": {
      "text/html": [
       "<div>\n",
       "<style scoped>\n",
       "    .dataframe tbody tr th:only-of-type {\n",
       "        vertical-align: middle;\n",
       "    }\n",
       "\n",
       "    .dataframe tbody tr th {\n",
       "        vertical-align: top;\n",
       "    }\n",
       "\n",
       "    .dataframe thead th {\n",
       "        text-align: right;\n",
       "    }\n",
       "</style>\n",
       "<table border=\"1\" class=\"dataframe\">\n",
       "  <thead>\n",
       "    <tr style=\"text-align: right;\">\n",
       "      <th></th>\n",
       "      <th>fldName</th>\n",
       "      <th>fldOwnerName</th>\n",
       "      <th>fldOwnerKind</th>\n",
       "      <th>fldOwnerFrom</th>\n",
       "      <th>fldOwnerTo</th>\n",
       "      <th>fldLicenseeFrom</th>\n",
       "      <th>fldLicenseeTo</th>\n",
       "      <th>cmpLongName</th>\n",
       "      <th>fldCompanyShare</th>\n",
       "      <th>fldSdfiShare</th>\n",
       "      <th>fldNpdidField</th>\n",
       "      <th>cmpNpdidCompany</th>\n",
       "      <th>fldLicenseeDateUpdated</th>\n",
       "    </tr>\n",
       "  </thead>\n",
       "  <tbody>\n",
       "    <tr>\n",
       "      <th>218</th>\n",
       "      <td>ATLA</td>\n",
       "      <td>102 C</td>\n",
       "      <td>PRODUCTION LICENSE</td>\n",
       "      <td>2011-11-04</td>\n",
       "      <td>NaN</td>\n",
       "      <td>2016-09-30</td>\n",
       "      <td>NaN</td>\n",
       "      <td>LOTOS Exploration and Production Norge AS</td>\n",
       "      <td>20.00</td>\n",
       "      <td>NaN</td>\n",
       "      <td>21106284</td>\n",
       "      <td>5064434</td>\n",
       "      <td>2019-10-03</td>\n",
       "    </tr>\n",
       "    <tr>\n",
       "      <th>2223</th>\n",
       "      <td>FRØY</td>\n",
       "      <td>364</td>\n",
       "      <td>PRODUCTION LICENSE</td>\n",
       "      <td>2006-01-06</td>\n",
       "      <td>NaN</td>\n",
       "      <td>2017-07-12</td>\n",
       "      <td>NaN</td>\n",
       "      <td>LOTOS Exploration and Production Norge AS</td>\n",
       "      <td>9.74</td>\n",
       "      <td>NaN</td>\n",
       "      <td>43597</td>\n",
       "      <td>5064434</td>\n",
       "      <td>2019-10-03</td>\n",
       "    </tr>\n",
       "    <tr>\n",
       "      <th>2629</th>\n",
       "      <td>GUNGNE</td>\n",
       "      <td>046</td>\n",
       "      <td>PRODUCTION LICENSE</td>\n",
       "      <td>1995-08-29</td>\n",
       "      <td>NaN</td>\n",
       "      <td>2019-12-10</td>\n",
       "      <td>NaN</td>\n",
       "      <td>LOTOS Exploration and Production Norge AS</td>\n",
       "      <td>15.00</td>\n",
       "      <td>NaN</td>\n",
       "      <td>43464</td>\n",
       "      <td>5064434</td>\n",
       "      <td>2019-12-12</td>\n",
       "    </tr>\n",
       "    <tr>\n",
       "      <th>2877</th>\n",
       "      <td>HEIMDAL</td>\n",
       "      <td>036 BS</td>\n",
       "      <td>PRODUCTION LICENSE</td>\n",
       "      <td>2003-10-13</td>\n",
       "      <td>NaN</td>\n",
       "      <td>2018-12-04</td>\n",
       "      <td>NaN</td>\n",
       "      <td>LOTOS Exploration and Production Norge AS</td>\n",
       "      <td>5.00</td>\n",
       "      <td>NaN</td>\n",
       "      <td>43590</td>\n",
       "      <td>5064434</td>\n",
       "      <td>2019-10-03</td>\n",
       "    </tr>\n",
       "    <tr>\n",
       "      <th>3660</th>\n",
       "      <td>LILLE-FRIGG</td>\n",
       "      <td>873</td>\n",
       "      <td>PRODUCTION LICENSE</td>\n",
       "      <td>2017-02-10</td>\n",
       "      <td>NaN</td>\n",
       "      <td>2018-05-16</td>\n",
       "      <td>NaN</td>\n",
       "      <td>LOTOS Exploration and Production Norge AS</td>\n",
       "      <td>20.00</td>\n",
       "      <td>NaN</td>\n",
       "      <td>43583</td>\n",
       "      <td>5064434</td>\n",
       "      <td>2019-10-03</td>\n",
       "    </tr>\n",
       "  </tbody>\n",
       "</table>\n",
       "</div>"
      ],
      "text/plain": [
       "          fldName fldOwnerName        fldOwnerKind fldOwnerFrom fldOwnerTo  \\\n",
       "218          ATLA        102 C  PRODUCTION LICENSE   2011-11-04        NaN   \n",
       "2223         FRØY          364  PRODUCTION LICENSE   2006-01-06        NaN   \n",
       "2629       GUNGNE          046  PRODUCTION LICENSE   1995-08-29        NaN   \n",
       "2877      HEIMDAL       036 BS  PRODUCTION LICENSE   2003-10-13        NaN   \n",
       "3660  LILLE-FRIGG          873  PRODUCTION LICENSE   2017-02-10        NaN   \n",
       "\n",
       "     fldLicenseeFrom fldLicenseeTo                                cmpLongName  \\\n",
       "218       2016-09-30           NaN  LOTOS Exploration and Production Norge AS   \n",
       "2223      2017-07-12           NaN  LOTOS Exploration and Production Norge AS   \n",
       "2629      2019-12-10           NaN  LOTOS Exploration and Production Norge AS   \n",
       "2877      2018-12-04           NaN  LOTOS Exploration and Production Norge AS   \n",
       "3660      2018-05-16           NaN  LOTOS Exploration and Production Norge AS   \n",
       "\n",
       "      fldCompanyShare  fldSdfiShare  fldNpdidField  cmpNpdidCompany  \\\n",
       "218             20.00           NaN       21106284          5064434   \n",
       "2223             9.74           NaN          43597          5064434   \n",
       "2629            15.00           NaN          43464          5064434   \n",
       "2877             5.00           NaN          43590          5064434   \n",
       "3660            20.00           NaN          43583          5064434   \n",
       "\n",
       "     fldLicenseeDateUpdated  \n",
       "218              2019-10-03  \n",
       "2223             2019-10-03  \n",
       "2629             2019-12-12  \n",
       "2877             2019-10-03  \n",
       "3660             2019-10-03  "
      ]
     },
     "execution_count": 22,
     "metadata": {},
     "output_type": "execute_result"
    }
   ],
   "source": [
    "lotus.head()"
   ]
  },
  {
   "cell_type": "code",
   "execution_count": 23,
   "metadata": {},
   "outputs": [
    {
     "data": {
      "text/plain": [
       "218              ATLA\n",
       "2223             FRØY\n",
       "2629           GUNGNE\n",
       "2877          HEIMDAL\n",
       "3660      LILLE-FRIGG\n",
       "5035           SKIRNE\n",
       "5076    SLEIPNER VEST\n",
       "5146     SLEIPNER ØST\n",
       "7323           UTGARD\n",
       "7330             VALE\n",
       "8208              YME\n",
       "8335        ØST FRIGG\n",
       "Name: fldName, dtype: object"
      ]
     },
     "execution_count": 23,
     "metadata": {},
     "output_type": "execute_result"
    }
   ],
   "source": [
    "lotus_fields = lotus['fldName']\n",
    "lotus_fields"
   ]
  },
  {
   "cell_type": "markdown",
   "metadata": {},
   "source": [
    "# Status"
   ]
  },
  {
   "cell_type": "code",
   "execution_count": 24,
   "metadata": {},
   "outputs": [],
   "source": [
    "status = load(fields[1])"
   ]
  },
  {
   "cell_type": "code",
   "execution_count": 25,
   "metadata": {},
   "outputs": [],
   "source": [
    "# status.head()"
   ]
  },
  {
   "cell_type": "code",
   "execution_count": 26,
   "metadata": {},
   "outputs": [],
   "source": [
    "status.dropna(inplace=True)\n",
    "\n",
    "status = status.loc[status.groupby('fldName').fldStatusToDate.idxmax(),:]"
   ]
  },
  {
   "cell_type": "code",
   "execution_count": 27,
   "metadata": {},
   "outputs": [
    {
     "data": {
      "text/plain": [
       "Approved for production    91\n",
       "Producing                  24\n",
       "Shut down                   1\n",
       "Name: fldStatus, dtype: int64"
      ]
     },
     "execution_count": 27,
     "metadata": {},
     "output_type": "execute_result"
    }
   ],
   "source": [
    "status['fldStatus'].value_counts()\n",
    "#  the headings and values look transposed"
   ]
  },
  {
   "cell_type": "code",
   "execution_count": 28,
   "metadata": {},
   "outputs": [
    {
     "data": {
      "text/plain": [
       "116"
      ]
     },
     "execution_count": 28,
     "metadata": {},
     "output_type": "execute_result"
    }
   ],
   "source": [
    "status['fldName'].nunique()"
   ]
  },
  {
   "cell_type": "markdown",
   "metadata": {},
   "source": [
    "# In place volumes"
   ]
  },
  {
   "cell_type": "code",
   "execution_count": 29,
   "metadata": {},
   "outputs": [],
   "source": [
    "inplacevols = load(fields[6])"
   ]
  },
  {
   "cell_type": "markdown",
   "metadata": {},
   "source": [
    "## In place volumes for specified Company"
   ]
  },
  {
   "cell_type": "code",
   "execution_count": 30,
   "metadata": {},
   "outputs": [],
   "source": [
    "ipvols_lotus = pd.DataFrame()\n",
    "# type to list for iterable\n",
    "for field in list(lotus_fields):\n",
    "    if field in list(inplacevols['fldName']):\n",
    "        ipvols_lotus = ipvols_lotus.append(inplacevols[inplacevols['fldName']==field])\n",
    "\n",
    "ipvols_lotus.loc['Column_Total'] = ipvols_lotus.sum(numeric_only=True, axis=0)"
   ]
  },
  {
   "cell_type": "code",
   "execution_count": 31,
   "metadata": {},
   "outputs": [
    {
     "data": {
      "text/html": [
       "<div>\n",
       "<style scoped>\n",
       "    .dataframe tbody tr th:only-of-type {\n",
       "        vertical-align: middle;\n",
       "    }\n",
       "\n",
       "    .dataframe tbody tr th {\n",
       "        vertical-align: top;\n",
       "    }\n",
       "\n",
       "    .dataframe thead th {\n",
       "        text-align: right;\n",
       "    }\n",
       "</style>\n",
       "<table border=\"1\" class=\"dataframe\">\n",
       "  <thead>\n",
       "    <tr style=\"text-align: right;\">\n",
       "      <th></th>\n",
       "      <th>fldName</th>\n",
       "      <th>fldInplaceOil</th>\n",
       "      <th>fldInplaceAssLiquid</th>\n",
       "      <th>fldInplaceAssGas</th>\n",
       "      <th>fldInplaceFreeGas</th>\n",
       "      <th>fldDateOffResEstDisplay</th>\n",
       "      <th>fldNpdidField</th>\n",
       "    </tr>\n",
       "  </thead>\n",
       "  <tbody>\n",
       "    <tr>\n",
       "      <th>3</th>\n",
       "      <td>ATLA</td>\n",
       "      <td>0.0</td>\n",
       "      <td>0.0</td>\n",
       "      <td>0.0</td>\n",
       "      <td>1.88</td>\n",
       "      <td>2019-12-31</td>\n",
       "      <td>21106284.0</td>\n",
       "    </tr>\n",
       "    <tr>\n",
       "      <th>26</th>\n",
       "      <td>FRØY</td>\n",
       "      <td>27.0</td>\n",
       "      <td>0.0</td>\n",
       "      <td>6.0</td>\n",
       "      <td>0.00</td>\n",
       "      <td>2019-12-31</td>\n",
       "      <td>43597.0</td>\n",
       "    </tr>\n",
       "    <tr>\n",
       "      <th>37</th>\n",
       "      <td>GUNGNE</td>\n",
       "      <td>0.0</td>\n",
       "      <td>15.0</td>\n",
       "      <td>0.0</td>\n",
       "      <td>19.62</td>\n",
       "      <td>2019-12-31</td>\n",
       "      <td>43464.0</td>\n",
       "    </tr>\n",
       "    <tr>\n",
       "      <th>41</th>\n",
       "      <td>HEIMDAL</td>\n",
       "      <td>11.0</td>\n",
       "      <td>0.0</td>\n",
       "      <td>0.0</td>\n",
       "      <td>61.40</td>\n",
       "      <td>2019-12-31</td>\n",
       "      <td>43590.0</td>\n",
       "    </tr>\n",
       "    <tr>\n",
       "      <th>54</th>\n",
       "      <td>LILLE-FRIGG</td>\n",
       "      <td>4.0</td>\n",
       "      <td>0.0</td>\n",
       "      <td>7.0</td>\n",
       "      <td>0.00</td>\n",
       "      <td>2019-12-31</td>\n",
       "      <td>43583.0</td>\n",
       "    </tr>\n",
       "    <tr>\n",
       "      <th>78</th>\n",
       "      <td>SKIRNE</td>\n",
       "      <td>5.0</td>\n",
       "      <td>0.0</td>\n",
       "      <td>0.0</td>\n",
       "      <td>14.72</td>\n",
       "      <td>2019-12-31</td>\n",
       "      <td>2138816.0</td>\n",
       "    </tr>\n",
       "    <tr>\n",
       "      <th>81</th>\n",
       "      <td>SLEIPNER VEST</td>\n",
       "      <td>0.0</td>\n",
       "      <td>79.0</td>\n",
       "      <td>0.0</td>\n",
       "      <td>185.11</td>\n",
       "      <td>2019-12-31</td>\n",
       "      <td>43457.0</td>\n",
       "    </tr>\n",
       "    <tr>\n",
       "      <th>82</th>\n",
       "      <td>SLEIPNER ØST</td>\n",
       "      <td>0.0</td>\n",
       "      <td>77.0</td>\n",
       "      <td>0.0</td>\n",
       "      <td>90.70</td>\n",
       "      <td>2019-12-31</td>\n",
       "      <td>43478.0</td>\n",
       "    </tr>\n",
       "    <tr>\n",
       "      <th>103</th>\n",
       "      <td>UTGARD</td>\n",
       "      <td>0.0</td>\n",
       "      <td>6.0</td>\n",
       "      <td>0.0</td>\n",
       "      <td>4.97</td>\n",
       "      <td>2019-12-31</td>\n",
       "      <td>28975098.0</td>\n",
       "    </tr>\n",
       "    <tr>\n",
       "      <th>104</th>\n",
       "      <td>VALE</td>\n",
       "      <td>0.0</td>\n",
       "      <td>10.0</td>\n",
       "      <td>0.0</td>\n",
       "      <td>8.30</td>\n",
       "      <td>2019-12-31</td>\n",
       "      <td>1578893.0</td>\n",
       "    </tr>\n",
       "    <tr>\n",
       "      <th>117</th>\n",
       "      <td>YME</td>\n",
       "      <td>55.0</td>\n",
       "      <td>0.0</td>\n",
       "      <td>3.0</td>\n",
       "      <td>0.00</td>\n",
       "      <td>2019-12-31</td>\n",
       "      <td>43807.0</td>\n",
       "    </tr>\n",
       "    <tr>\n",
       "      <th>120</th>\n",
       "      <td>ØST FRIGG</td>\n",
       "      <td>0.0</td>\n",
       "      <td>0.0</td>\n",
       "      <td>0.0</td>\n",
       "      <td>21.37</td>\n",
       "      <td>2019-12-31</td>\n",
       "      <td>43576.0</td>\n",
       "    </tr>\n",
       "    <tr>\n",
       "      <th>Column_Total</th>\n",
       "      <td>NaN</td>\n",
       "      <td>102.0</td>\n",
       "      <td>187.0</td>\n",
       "      <td>16.0</td>\n",
       "      <td>408.07</td>\n",
       "      <td>NaT</td>\n",
       "      <td>54147643.0</td>\n",
       "    </tr>\n",
       "  </tbody>\n",
       "</table>\n",
       "</div>"
      ],
      "text/plain": [
       "                    fldName  fldInplaceOil  fldInplaceAssLiquid  \\\n",
       "3                      ATLA            0.0                  0.0   \n",
       "26                     FRØY           27.0                  0.0   \n",
       "37                   GUNGNE            0.0                 15.0   \n",
       "41                  HEIMDAL           11.0                  0.0   \n",
       "54              LILLE-FRIGG            4.0                  0.0   \n",
       "78                   SKIRNE            5.0                  0.0   \n",
       "81            SLEIPNER VEST            0.0                 79.0   \n",
       "82             SLEIPNER ØST            0.0                 77.0   \n",
       "103                  UTGARD            0.0                  6.0   \n",
       "104                    VALE            0.0                 10.0   \n",
       "117                     YME           55.0                  0.0   \n",
       "120               ØST FRIGG            0.0                  0.0   \n",
       "Column_Total            NaN          102.0                187.0   \n",
       "\n",
       "              fldInplaceAssGas  fldInplaceFreeGas fldDateOffResEstDisplay  \\\n",
       "3                          0.0               1.88              2019-12-31   \n",
       "26                         6.0               0.00              2019-12-31   \n",
       "37                         0.0              19.62              2019-12-31   \n",
       "41                         0.0              61.40              2019-12-31   \n",
       "54                         7.0               0.00              2019-12-31   \n",
       "78                         0.0              14.72              2019-12-31   \n",
       "81                         0.0             185.11              2019-12-31   \n",
       "82                         0.0              90.70              2019-12-31   \n",
       "103                        0.0               4.97              2019-12-31   \n",
       "104                        0.0               8.30              2019-12-31   \n",
       "117                        3.0               0.00              2019-12-31   \n",
       "120                        0.0              21.37              2019-12-31   \n",
       "Column_Total              16.0             408.07                     NaT   \n",
       "\n",
       "              fldNpdidField  \n",
       "3                21106284.0  \n",
       "26                  43597.0  \n",
       "37                  43464.0  \n",
       "41                  43590.0  \n",
       "54                  43583.0  \n",
       "78                2138816.0  \n",
       "81                  43457.0  \n",
       "82                  43478.0  \n",
       "103              28975098.0  \n",
       "104               1578893.0  \n",
       "117                 43807.0  \n",
       "120                 43576.0  \n",
       "Column_Total     54147643.0  "
      ]
     },
     "execution_count": 31,
     "metadata": {},
     "output_type": "execute_result"
    }
   ],
   "source": [
    "ipvols_lotus"
   ]
  },
  {
   "cell_type": "markdown",
   "metadata": {},
   "source": [
    "# Reserves"
   ]
  },
  {
   "cell_type": "code",
   "execution_count": 32,
   "metadata": {},
   "outputs": [],
   "source": [
    "reserves = load(fields[5])"
   ]
  },
  {
   "cell_type": "markdown",
   "metadata": {},
   "source": [
    "## Reserves for specified Company"
   ]
  },
  {
   "cell_type": "code",
   "execution_count": 33,
   "metadata": {},
   "outputs": [],
   "source": [
    "reserves_lotus = pd.DataFrame()\n",
    "# type to list for iterable\n",
    "for field in list(lotus_fields):\n",
    "    if field in list(reserves['fldName']):\n",
    "        reserves_lotus = reserves_lotus.append(inplacevols[inplacevols['fldName']==field])\n",
    "\n",
    "# reserves_lotus.loc[:,'Row_Total'] = reserves_lotus.sum(numeric_only=True, axis=1)\n",
    "reserves_lotus.loc['Column_Total'] = reserves_lotus.sum(numeric_only=True, axis=0)"
   ]
  },
  {
   "cell_type": "code",
   "execution_count": 34,
   "metadata": {},
   "outputs": [
    {
     "data": {
      "text/html": [
       "<div>\n",
       "<style scoped>\n",
       "    .dataframe tbody tr th:only-of-type {\n",
       "        vertical-align: middle;\n",
       "    }\n",
       "\n",
       "    .dataframe tbody tr th {\n",
       "        vertical-align: top;\n",
       "    }\n",
       "\n",
       "    .dataframe thead th {\n",
       "        text-align: right;\n",
       "    }\n",
       "</style>\n",
       "<table border=\"1\" class=\"dataframe\">\n",
       "  <thead>\n",
       "    <tr style=\"text-align: right;\">\n",
       "      <th></th>\n",
       "      <th>fldName</th>\n",
       "      <th>fldInplaceOil</th>\n",
       "      <th>fldInplaceAssLiquid</th>\n",
       "      <th>fldInplaceAssGas</th>\n",
       "      <th>fldInplaceFreeGas</th>\n",
       "      <th>fldDateOffResEstDisplay</th>\n",
       "      <th>fldNpdidField</th>\n",
       "    </tr>\n",
       "  </thead>\n",
       "  <tbody>\n",
       "    <tr>\n",
       "      <th>3</th>\n",
       "      <td>ATLA</td>\n",
       "      <td>0.0</td>\n",
       "      <td>0.0</td>\n",
       "      <td>0.0</td>\n",
       "      <td>1.88</td>\n",
       "      <td>2019-12-31</td>\n",
       "      <td>21106284.0</td>\n",
       "    </tr>\n",
       "    <tr>\n",
       "      <th>26</th>\n",
       "      <td>FRØY</td>\n",
       "      <td>27.0</td>\n",
       "      <td>0.0</td>\n",
       "      <td>6.0</td>\n",
       "      <td>0.00</td>\n",
       "      <td>2019-12-31</td>\n",
       "      <td>43597.0</td>\n",
       "    </tr>\n",
       "    <tr>\n",
       "      <th>37</th>\n",
       "      <td>GUNGNE</td>\n",
       "      <td>0.0</td>\n",
       "      <td>15.0</td>\n",
       "      <td>0.0</td>\n",
       "      <td>19.62</td>\n",
       "      <td>2019-12-31</td>\n",
       "      <td>43464.0</td>\n",
       "    </tr>\n",
       "    <tr>\n",
       "      <th>41</th>\n",
       "      <td>HEIMDAL</td>\n",
       "      <td>11.0</td>\n",
       "      <td>0.0</td>\n",
       "      <td>0.0</td>\n",
       "      <td>61.40</td>\n",
       "      <td>2019-12-31</td>\n",
       "      <td>43590.0</td>\n",
       "    </tr>\n",
       "    <tr>\n",
       "      <th>54</th>\n",
       "      <td>LILLE-FRIGG</td>\n",
       "      <td>4.0</td>\n",
       "      <td>0.0</td>\n",
       "      <td>7.0</td>\n",
       "      <td>0.00</td>\n",
       "      <td>2019-12-31</td>\n",
       "      <td>43583.0</td>\n",
       "    </tr>\n",
       "    <tr>\n",
       "      <th>78</th>\n",
       "      <td>SKIRNE</td>\n",
       "      <td>5.0</td>\n",
       "      <td>0.0</td>\n",
       "      <td>0.0</td>\n",
       "      <td>14.72</td>\n",
       "      <td>2019-12-31</td>\n",
       "      <td>2138816.0</td>\n",
       "    </tr>\n",
       "    <tr>\n",
       "      <th>81</th>\n",
       "      <td>SLEIPNER VEST</td>\n",
       "      <td>0.0</td>\n",
       "      <td>79.0</td>\n",
       "      <td>0.0</td>\n",
       "      <td>185.11</td>\n",
       "      <td>2019-12-31</td>\n",
       "      <td>43457.0</td>\n",
       "    </tr>\n",
       "    <tr>\n",
       "      <th>82</th>\n",
       "      <td>SLEIPNER ØST</td>\n",
       "      <td>0.0</td>\n",
       "      <td>77.0</td>\n",
       "      <td>0.0</td>\n",
       "      <td>90.70</td>\n",
       "      <td>2019-12-31</td>\n",
       "      <td>43478.0</td>\n",
       "    </tr>\n",
       "    <tr>\n",
       "      <th>103</th>\n",
       "      <td>UTGARD</td>\n",
       "      <td>0.0</td>\n",
       "      <td>6.0</td>\n",
       "      <td>0.0</td>\n",
       "      <td>4.97</td>\n",
       "      <td>2019-12-31</td>\n",
       "      <td>28975098.0</td>\n",
       "    </tr>\n",
       "    <tr>\n",
       "      <th>104</th>\n",
       "      <td>VALE</td>\n",
       "      <td>0.0</td>\n",
       "      <td>10.0</td>\n",
       "      <td>0.0</td>\n",
       "      <td>8.30</td>\n",
       "      <td>2019-12-31</td>\n",
       "      <td>1578893.0</td>\n",
       "    </tr>\n",
       "    <tr>\n",
       "      <th>117</th>\n",
       "      <td>YME</td>\n",
       "      <td>55.0</td>\n",
       "      <td>0.0</td>\n",
       "      <td>3.0</td>\n",
       "      <td>0.00</td>\n",
       "      <td>2019-12-31</td>\n",
       "      <td>43807.0</td>\n",
       "    </tr>\n",
       "    <tr>\n",
       "      <th>120</th>\n",
       "      <td>ØST FRIGG</td>\n",
       "      <td>0.0</td>\n",
       "      <td>0.0</td>\n",
       "      <td>0.0</td>\n",
       "      <td>21.37</td>\n",
       "      <td>2019-12-31</td>\n",
       "      <td>43576.0</td>\n",
       "    </tr>\n",
       "    <tr>\n",
       "      <th>Column_Total</th>\n",
       "      <td>NaN</td>\n",
       "      <td>102.0</td>\n",
       "      <td>187.0</td>\n",
       "      <td>16.0</td>\n",
       "      <td>408.07</td>\n",
       "      <td>NaT</td>\n",
       "      <td>54147643.0</td>\n",
       "    </tr>\n",
       "  </tbody>\n",
       "</table>\n",
       "</div>"
      ],
      "text/plain": [
       "                    fldName  fldInplaceOil  fldInplaceAssLiquid  \\\n",
       "3                      ATLA            0.0                  0.0   \n",
       "26                     FRØY           27.0                  0.0   \n",
       "37                   GUNGNE            0.0                 15.0   \n",
       "41                  HEIMDAL           11.0                  0.0   \n",
       "54              LILLE-FRIGG            4.0                  0.0   \n",
       "78                   SKIRNE            5.0                  0.0   \n",
       "81            SLEIPNER VEST            0.0                 79.0   \n",
       "82             SLEIPNER ØST            0.0                 77.0   \n",
       "103                  UTGARD            0.0                  6.0   \n",
       "104                    VALE            0.0                 10.0   \n",
       "117                     YME           55.0                  0.0   \n",
       "120               ØST FRIGG            0.0                  0.0   \n",
       "Column_Total            NaN          102.0                187.0   \n",
       "\n",
       "              fldInplaceAssGas  fldInplaceFreeGas fldDateOffResEstDisplay  \\\n",
       "3                          0.0               1.88              2019-12-31   \n",
       "26                         6.0               0.00              2019-12-31   \n",
       "37                         0.0              19.62              2019-12-31   \n",
       "41                         0.0              61.40              2019-12-31   \n",
       "54                         7.0               0.00              2019-12-31   \n",
       "78                         0.0              14.72              2019-12-31   \n",
       "81                         0.0             185.11              2019-12-31   \n",
       "82                         0.0              90.70              2019-12-31   \n",
       "103                        0.0               4.97              2019-12-31   \n",
       "104                        0.0               8.30              2019-12-31   \n",
       "117                        3.0               0.00              2019-12-31   \n",
       "120                        0.0              21.37              2019-12-31   \n",
       "Column_Total              16.0             408.07                     NaT   \n",
       "\n",
       "              fldNpdidField  \n",
       "3                21106284.0  \n",
       "26                  43597.0  \n",
       "37                  43464.0  \n",
       "41                  43590.0  \n",
       "54                  43583.0  \n",
       "78                2138816.0  \n",
       "81                  43457.0  \n",
       "82                  43478.0  \n",
       "103              28975098.0  \n",
       "104               1578893.0  \n",
       "117                 43807.0  \n",
       "120                 43576.0  \n",
       "Column_Total     54147643.0  "
      ]
     },
     "execution_count": 34,
     "metadata": {},
     "output_type": "execute_result"
    }
   ],
   "source": [
    "reserves_lotus"
   ]
  },
  {
   "cell_type": "markdown",
   "metadata": {},
   "source": [
    "# Description"
   ]
  },
  {
   "cell_type": "code",
   "execution_count": 35,
   "metadata": {},
   "outputs": [],
   "source": [
    "description = load(fields[7])"
   ]
  },
  {
   "cell_type": "code",
   "execution_count": 36,
   "metadata": {},
   "outputs": [
    {
     "data": {
      "text/html": [
       "<div>\n",
       "<style scoped>\n",
       "    .dataframe tbody tr th:only-of-type {\n",
       "        vertical-align: middle;\n",
       "    }\n",
       "\n",
       "    .dataframe tbody tr th {\n",
       "        vertical-align: top;\n",
       "    }\n",
       "\n",
       "    .dataframe thead th {\n",
       "        text-align: right;\n",
       "    }\n",
       "</style>\n",
       "<table border=\"1\" class=\"dataframe\">\n",
       "  <thead>\n",
       "    <tr style=\"text-align: right;\">\n",
       "      <th></th>\n",
       "      <th>fldName</th>\n",
       "      <th>fldDescriptionHeading</th>\n",
       "      <th>fldDescriptionText</th>\n",
       "      <th>fldNpdidField</th>\n",
       "      <th>fldDescriptionDateUpdated</th>\n",
       "    </tr>\n",
       "  </thead>\n",
       "  <tbody>\n",
       "    <tr>\n",
       "      <th>0</th>\n",
       "      <td>ALBUSKJELL</td>\n",
       "      <td>Development</td>\n",
       "      <td>Albuskjell is a field in the southern part of ...</td>\n",
       "      <td>43437</td>\n",
       "      <td>2020-02-08</td>\n",
       "    </tr>\n",
       "    <tr>\n",
       "      <th>1</th>\n",
       "      <td>ALBUSKJELL</td>\n",
       "      <td>Reservoir</td>\n",
       "      <td>Albuskjell produced gas and condensate from Ma...</td>\n",
       "      <td>43437</td>\n",
       "      <td>2018-03-16</td>\n",
       "    </tr>\n",
       "    <tr>\n",
       "      <th>2</th>\n",
       "      <td>ALBUSKJELL</td>\n",
       "      <td>Recovery</td>\n",
       "      <td>The field was produced by pressure depletion.</td>\n",
       "      <td>43437</td>\n",
       "      <td>2017-04-11</td>\n",
       "    </tr>\n",
       "    <tr>\n",
       "      <th>3</th>\n",
       "      <td>ALBUSKJELL</td>\n",
       "      <td>Transport</td>\n",
       "      <td>The well stream was transported via pipeline t...</td>\n",
       "      <td>43437</td>\n",
       "      <td>2018-03-16</td>\n",
       "    </tr>\n",
       "    <tr>\n",
       "      <th>4</th>\n",
       "      <td>ALBUSKJELL</td>\n",
       "      <td>Status</td>\n",
       "      <td>The field was shut down in 1998 and the platfo...</td>\n",
       "      <td>43437</td>\n",
       "      <td>2020-02-08</td>\n",
       "    </tr>\n",
       "  </tbody>\n",
       "</table>\n",
       "</div>"
      ],
      "text/plain": [
       "      fldName fldDescriptionHeading  \\\n",
       "0  ALBUSKJELL          Development    \n",
       "1  ALBUSKJELL            Reservoir    \n",
       "2  ALBUSKJELL             Recovery    \n",
       "3  ALBUSKJELL            Transport    \n",
       "4  ALBUSKJELL               Status    \n",
       "\n",
       "                                  fldDescriptionText  fldNpdidField  \\\n",
       "0  Albuskjell is a field in the southern part of ...          43437   \n",
       "1  Albuskjell produced gas and condensate from Ma...          43437   \n",
       "2      The field was produced by pressure depletion.          43437   \n",
       "3  The well stream was transported via pipeline t...          43437   \n",
       "4  The field was shut down in 1998 and the platfo...          43437   \n",
       "\n",
       "  fldDescriptionDateUpdated  \n",
       "0                2020-02-08  \n",
       "1                2018-03-16  \n",
       "2                2017-04-11  \n",
       "3                2018-03-16  \n",
       "4                2020-02-08  "
      ]
     },
     "execution_count": 36,
     "metadata": {},
     "output_type": "execute_result"
    }
   ],
   "source": [
    "description.head()"
   ]
  },
  {
   "cell_type": "code",
   "execution_count": null,
   "metadata": {},
   "outputs": [],
   "source": []
  }
 ],
 "metadata": {
  "kernelspec": {
   "display_name": "Python 3",
   "language": "python",
   "name": "python3"
  },
  "language_info": {
   "codemirror_mode": {
    "name": "ipython",
    "version": 3
   },
   "file_extension": ".py",
   "mimetype": "text/x-python",
   "name": "python",
   "nbconvert_exporter": "python",
   "pygments_lexer": "ipython3",
   "version": "3.8.5"
  }
 },
 "nbformat": 4,
 "nbformat_minor": 4
}
