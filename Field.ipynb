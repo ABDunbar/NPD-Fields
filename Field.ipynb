{
 "cells": [
  {
   "cell_type": "code",
   "execution_count": 1,
   "metadata": {},
   "outputs": [],
   "source": [
    "import pandas as pd\n",
    "import numpy as np\n",
    "import matplotlib.pyplot as plt\n",
    "import seaborn as sns\n",
    "%matplotlib inline\n",
    "\n",
    "pd.options.display.max_rows = 500"
   ]
  },
  {
   "cell_type": "code",
   "execution_count": 2,
   "metadata": {},
   "outputs": [],
   "source": [
    "fields = ['field_overview',\n",
    "          'field_status',\n",
    "          'field_operators',\n",
    "          'field_owners',\n",
    "          'field_licensees',\n",
    "          'field_reserves',\n",
    "          'field_inplaceVol',\n",
    "          'field_description',\n",
    "         ]"
   ]
  },
  {
   "cell_type": "code",
   "execution_count": 3,
   "metadata": {},
   "outputs": [],
   "source": [
    "from load import load"
   ]
  },
  {
   "cell_type": "markdown",
   "metadata": {},
   "source": [
    "# Overview"
   ]
  },
  {
   "cell_type": "code",
   "execution_count": 4,
   "metadata": {},
   "outputs": [],
   "source": [
    "overview = load(fields[0])"
   ]
  },
  {
   "cell_type": "code",
   "execution_count": 50,
   "metadata": {},
   "outputs": [
    {
     "data": {
      "text/html": [
       "<div>\n",
       "<style scoped>\n",
       "    .dataframe tbody tr th:only-of-type {\n",
       "        vertical-align: middle;\n",
       "    }\n",
       "\n",
       "    .dataframe tbody tr th {\n",
       "        vertical-align: top;\n",
       "    }\n",
       "\n",
       "    .dataframe thead th {\n",
       "        text-align: right;\n",
       "    }\n",
       "</style>\n",
       "<table border=\"1\" class=\"dataframe\">\n",
       "  <thead>\n",
       "    <tr style=\"text-align: right;\">\n",
       "      <th></th>\n",
       "      <th>fldName</th>\n",
       "      <th>cmpLongName</th>\n",
       "      <th>fldCurrentActivitySatus</th>\n",
       "      <th>wlbName</th>\n",
       "      <th>wlbCompletionDate</th>\n",
       "      <th>fldMainArea</th>\n",
       "      <th>fldOwnerKind</th>\n",
       "      <th>fldOwnerName</th>\n",
       "      <th>fldMainSupplyBase</th>\n",
       "      <th>fldNpdidOwner</th>\n",
       "      <th>fldNpdidField</th>\n",
       "      <th>wlbNpdidWellbore</th>\n",
       "      <th>cmpNpdidCompany</th>\n",
       "      <th>fldFactPageUrl</th>\n",
       "      <th>fldFactMapUrl</th>\n",
       "      <th>fldDateUpdated</th>\n",
       "      <th>fldDateUpdatedMax</th>\n",
       "    </tr>\n",
       "  </thead>\n",
       "  <tbody>\n",
       "    <tr>\n",
       "      <th>0</th>\n",
       "      <td>ALBUSKJELL</td>\n",
       "      <td>ConocoPhillips Skandinavia AS</td>\n",
       "      <td>Shut down</td>\n",
       "      <td>1/6-1</td>\n",
       "      <td>1972-11-26</td>\n",
       "      <td>North Sea</td>\n",
       "      <td>PRODUCTION LICENSE</td>\n",
       "      <td>018</td>\n",
       "      <td>NaN</td>\n",
       "      <td>20900.0</td>\n",
       "      <td>43437</td>\n",
       "      <td>239</td>\n",
       "      <td>2410696.0</td>\n",
       "      <td>https://factpages.npd.no/factpages/default.asp...</td>\n",
       "      <td>https://factmaps.npd.no/factmaps/3_0/?run=Fiel...</td>\n",
       "      <td>2019-10-03</td>\n",
       "      <td>2020-02-26</td>\n",
       "    </tr>\n",
       "    <tr>\n",
       "      <th>1</th>\n",
       "      <td>ALVE</td>\n",
       "      <td>Equinor Energy AS</td>\n",
       "      <td>Producing</td>\n",
       "      <td>6507/3-1</td>\n",
       "      <td>1990-10-26</td>\n",
       "      <td>Norwegian Sea</td>\n",
       "      <td>PRODUCTION LICENSE</td>\n",
       "      <td>159 B</td>\n",
       "      <td>Sandnessjøen</td>\n",
       "      <td>2819945.0</td>\n",
       "      <td>4444332</td>\n",
       "      <td>1533</td>\n",
       "      <td>32011216.0</td>\n",
       "      <td>https://factpages.npd.no/factpages/default.asp...</td>\n",
       "      <td>https://factmaps.npd.no/factmaps/3_0/?run=Fiel...</td>\n",
       "      <td>2019-10-03</td>\n",
       "      <td>2020-02-25</td>\n",
       "    </tr>\n",
       "    <tr>\n",
       "      <th>2</th>\n",
       "      <td>ALVHEIM</td>\n",
       "      <td>Aker BP ASA</td>\n",
       "      <td>Producing</td>\n",
       "      <td>24/6-2</td>\n",
       "      <td>1998-07-08</td>\n",
       "      <td>North Sea</td>\n",
       "      <td>PRODUCTION LICENSE</td>\n",
       "      <td>203</td>\n",
       "      <td>NaN</td>\n",
       "      <td>22436.0</td>\n",
       "      <td>2845712</td>\n",
       "      <td>3397</td>\n",
       "      <td>28544099.0</td>\n",
       "      <td>https://factpages.npd.no/factpages/default.asp...</td>\n",
       "      <td>https://factmaps.npd.no/factmaps/3_0/?run=Fiel...</td>\n",
       "      <td>2019-10-09</td>\n",
       "      <td>2020-04-15</td>\n",
       "    </tr>\n",
       "    <tr>\n",
       "      <th>3</th>\n",
       "      <td>ATLA</td>\n",
       "      <td>Total E&amp;P Norge AS</td>\n",
       "      <td>Producing</td>\n",
       "      <td>25/5-7</td>\n",
       "      <td>2010-10-23</td>\n",
       "      <td>North Sea</td>\n",
       "      <td>PRODUCTION LICENSE</td>\n",
       "      <td>102 C</td>\n",
       "      <td>NaN</td>\n",
       "      <td>5467035.0</td>\n",
       "      <td>21106284</td>\n",
       "      <td>6423</td>\n",
       "      <td>2410708.0</td>\n",
       "      <td>https://factpages.npd.no/factpages/default.asp...</td>\n",
       "      <td>https://factmaps.npd.no/factmaps/3_0/?run=Fiel...</td>\n",
       "      <td>2020-02-08</td>\n",
       "      <td>2020-02-25</td>\n",
       "    </tr>\n",
       "    <tr>\n",
       "      <th>4</th>\n",
       "      <td>BALDER</td>\n",
       "      <td>Vår Energi AS</td>\n",
       "      <td>Producing</td>\n",
       "      <td>25/11-1</td>\n",
       "      <td>1967-07-09</td>\n",
       "      <td>North Sea</td>\n",
       "      <td>PRODUCTION LICENSE</td>\n",
       "      <td>001</td>\n",
       "      <td>Dusavik</td>\n",
       "      <td>20756.0</td>\n",
       "      <td>43562</td>\n",
       "      <td>143</td>\n",
       "      <td>33360957.0</td>\n",
       "      <td>https://factpages.npd.no/factpages/default.asp...</td>\n",
       "      <td>https://factmaps.npd.no/factmaps/3_0/?run=Fiel...</td>\n",
       "      <td>2019-10-03</td>\n",
       "      <td>2020-02-26</td>\n",
       "    </tr>\n",
       "  </tbody>\n",
       "</table>\n",
       "</div>"
      ],
      "text/plain": [
       "      fldName                    cmpLongName fldCurrentActivitySatus  \\\n",
       "0  ALBUSKJELL  ConocoPhillips Skandinavia AS               Shut down   \n",
       "1        ALVE              Equinor Energy AS               Producing   \n",
       "2     ALVHEIM                    Aker BP ASA               Producing   \n",
       "3        ATLA             Total E&P Norge AS               Producing   \n",
       "4      BALDER                  Vår Energi AS               Producing   \n",
       "\n",
       "     wlbName wlbCompletionDate    fldMainArea        fldOwnerKind  \\\n",
       "0      1/6-1        1972-11-26      North Sea  PRODUCTION LICENSE   \n",
       "1   6507/3-1        1990-10-26  Norwegian Sea  PRODUCTION LICENSE   \n",
       "2     24/6-2        1998-07-08      North Sea  PRODUCTION LICENSE   \n",
       "3     25/5-7        2010-10-23      North Sea  PRODUCTION LICENSE   \n",
       "4    25/11-1        1967-07-09      North Sea  PRODUCTION LICENSE   \n",
       "\n",
       "  fldOwnerName fldMainSupplyBase  fldNpdidOwner  fldNpdidField  \\\n",
       "0          018               NaN        20900.0          43437   \n",
       "1        159 B      Sandnessjøen      2819945.0        4444332   \n",
       "2          203               NaN        22436.0        2845712   \n",
       "3        102 C               NaN      5467035.0       21106284   \n",
       "4          001           Dusavik        20756.0          43562   \n",
       "\n",
       "   wlbNpdidWellbore  cmpNpdidCompany  \\\n",
       "0               239        2410696.0   \n",
       "1              1533       32011216.0   \n",
       "2              3397       28544099.0   \n",
       "3              6423        2410708.0   \n",
       "4               143       33360957.0   \n",
       "\n",
       "                                      fldFactPageUrl  \\\n",
       "0  https://factpages.npd.no/factpages/default.asp...   \n",
       "1  https://factpages.npd.no/factpages/default.asp...   \n",
       "2  https://factpages.npd.no/factpages/default.asp...   \n",
       "3  https://factpages.npd.no/factpages/default.asp...   \n",
       "4  https://factpages.npd.no/factpages/default.asp...   \n",
       "\n",
       "                                       fldFactMapUrl fldDateUpdated  \\\n",
       "0  https://factmaps.npd.no/factmaps/3_0/?run=Fiel...     2019-10-03   \n",
       "1  https://factmaps.npd.no/factmaps/3_0/?run=Fiel...     2019-10-03   \n",
       "2  https://factmaps.npd.no/factmaps/3_0/?run=Fiel...     2019-10-09   \n",
       "3  https://factmaps.npd.no/factmaps/3_0/?run=Fiel...     2020-02-08   \n",
       "4  https://factmaps.npd.no/factmaps/3_0/?run=Fiel...     2019-10-03   \n",
       "\n",
       "  fldDateUpdatedMax  \n",
       "0        2020-02-26  \n",
       "1        2020-02-25  \n",
       "2        2020-04-15  \n",
       "3        2020-02-25  \n",
       "4        2020-02-26  "
      ]
     },
     "execution_count": 50,
     "metadata": {},
     "output_type": "execute_result"
    }
   ],
   "source": [
    "overview.head()"
   ]
  },
  {
   "cell_type": "code",
   "execution_count": 6,
   "metadata": {},
   "outputs": [
    {
     "data": {
      "text/plain": [
       "fldCurrentActivitySatus\n",
       "Approved for production     9\n",
       "Producing                  90\n",
       "Shut down                  25\n",
       "dtype: int64"
      ]
     },
     "execution_count": 6,
     "metadata": {},
     "output_type": "execute_result"
    }
   ],
   "source": [
    "overview.groupby('fldCurrentActivitySatus').size()"
   ]
  },
  {
   "cell_type": "code",
   "execution_count": 49,
   "metadata": {},
   "outputs": [],
   "source": [
    "# print(len(overview[overview.fldCurrentActivitySatus=='Shut down'])) # 25 includes NaN\n",
    "# overview[overview['fldCurrentActivitySatus']==\"Shut down\"]['cmpLongName'] # 22 no NaN"
   ]
  },
  {
   "cell_type": "code",
   "execution_count": 8,
   "metadata": {},
   "outputs": [],
   "source": [
    "producing_fields = overview[overview['fldCurrentActivitySatus']=='Producing']['cmpLongName'].value_counts()\n",
    "producing_approved_fields = overview[overview['fldCurrentActivitySatus'].isin(['Approved for production'])]['cmpLongName'].value_counts()\n",
    "shutdown_fields = overview[overview['fldCurrentActivitySatus']==\"Shut down\"]['cmpLongName'].value_counts()"
   ]
  },
  {
   "cell_type": "code",
   "execution_count": 9,
   "metadata": {},
   "outputs": [
    {
     "name": "stdout",
     "output_type": "stream",
     "text": [
      "Number of fields: 124\n",
      "Number of producing fields: 90\n",
      "Number of producing and approved fields: 9\n",
      "Number of shut down fields: 22\n"
     ]
    }
   ],
   "source": [
    "print(f\"Number of fields: {overview.shape[0]}\")\n",
    "print(f\"Number of producing fields: {producing_fields.sum()}\")\n",
    "print(f\"Number of producing and approved fields: {producing_approved_fields.sum()}\")\n",
    "print(f\"Number of shut down fields: {shutdown_fields.sum()}\") # doesn't include 3 NaN entries"
   ]
  },
  {
   "cell_type": "markdown",
   "metadata": {},
   "source": [
    "## Status of Fields by Area"
   ]
  },
  {
   "cell_type": "code",
   "execution_count": 10,
   "metadata": {},
   "outputs": [
    {
     "data": {
      "text/html": [
       "<div>\n",
       "<style scoped>\n",
       "    .dataframe tbody tr th:only-of-type {\n",
       "        vertical-align: middle;\n",
       "    }\n",
       "\n",
       "    .dataframe tbody tr th {\n",
       "        vertical-align: top;\n",
       "    }\n",
       "\n",
       "    .dataframe thead th {\n",
       "        text-align: right;\n",
       "    }\n",
       "</style>\n",
       "<table border=\"1\" class=\"dataframe\">\n",
       "  <thead>\n",
       "    <tr style=\"text-align: right;\">\n",
       "      <th>fldCurrentActivitySatus</th>\n",
       "      <th>Approved for production</th>\n",
       "      <th>Producing</th>\n",
       "      <th>Shut down</th>\n",
       "    </tr>\n",
       "    <tr>\n",
       "      <th>fldMainArea</th>\n",
       "      <th></th>\n",
       "      <th></th>\n",
       "      <th></th>\n",
       "    </tr>\n",
       "  </thead>\n",
       "  <tbody>\n",
       "    <tr>\n",
       "      <th>Barents Sea</th>\n",
       "      <td>1.0</td>\n",
       "      <td>2.0</td>\n",
       "      <td>NaN</td>\n",
       "    </tr>\n",
       "    <tr>\n",
       "      <th>North Sea</th>\n",
       "      <td>6.0</td>\n",
       "      <td>67.0</td>\n",
       "      <td>24.0</td>\n",
       "    </tr>\n",
       "    <tr>\n",
       "      <th>Norwegian Sea</th>\n",
       "      <td>2.0</td>\n",
       "      <td>21.0</td>\n",
       "      <td>1.0</td>\n",
       "    </tr>\n",
       "  </tbody>\n",
       "</table>\n",
       "</div>"
      ],
      "text/plain": [
       "fldCurrentActivitySatus  Approved for production  Producing  Shut down\n",
       "fldMainArea                                                           \n",
       "Barents Sea                                  1.0        2.0        NaN\n",
       "North Sea                                    6.0       67.0       24.0\n",
       "Norwegian Sea                                2.0       21.0        1.0"
      ]
     },
     "execution_count": 10,
     "metadata": {},
     "output_type": "execute_result"
    }
   ],
   "source": [
    "data = overview.groupby(['fldMainArea', 'fldCurrentActivitySatus']).size().unstack()\n",
    "data#.plot(kind='bar', figsize=(10,6))"
   ]
  },
  {
   "cell_type": "markdown",
   "metadata": {},
   "source": [
    "# Operators"
   ]
  },
  {
   "cell_type": "code",
   "execution_count": 11,
   "metadata": {},
   "outputs": [],
   "source": [
    "operators = load(fields[2])"
   ]
  },
  {
   "cell_type": "code",
   "execution_count": 47,
   "metadata": {},
   "outputs": [],
   "source": [
    "# operators.head()"
   ]
  },
  {
   "cell_type": "code",
   "execution_count": 13,
   "metadata": {},
   "outputs": [
    {
     "name": "stdout",
     "output_type": "stream",
     "text": [
      " Number of Operators: 78\n",
      " Number of Fields: 124\n"
     ]
    }
   ],
   "source": [
    "print(f\" Number of Operators: {operators['cmpLongName'].nunique()}\")\n",
    "print(f\" Number of Fields: {operators['fldName'].nunique()}\")"
   ]
  },
  {
   "cell_type": "code",
   "execution_count": 15,
   "metadata": {},
   "outputs": [
    {
     "data": {
      "text/plain": [
       "Equinor Energy AS                   59\n",
       "Aker BP ASA                         19\n",
       "ConocoPhillips Skandinavia AS        9\n",
       "Wintershall Dea Norge AS             5\n",
       "Vår Energi AS                        5\n",
       "Repsol Norge AS                      4\n",
       "A/S Norske Shell                     3\n",
       "Neptune Energy Norge AS              3\n",
       "Lundin Energy Norway AS              3\n",
       "DNO Norge AS                         2\n",
       "Total E&P Norge AS                   2\n",
       "Spirit Energy Norway AS              2\n",
       "Total E&P UK Ltd                     1\n",
       "Chrysaor Norge AS                    1\n",
       "Petrogas NEO UK Ltd                  1\n",
       "Repsol Sinopec North Sea Limited     1\n",
       "OKEA ASA                             1\n",
       "Name: cmpLongName, dtype: int64"
      ]
     },
     "execution_count": 15,
     "metadata": {},
     "output_type": "execute_result"
    }
   ],
   "source": [
    "# Current Operators don't have a date in the 'fldOperatorTo' field\n",
    "operators[operators['fldOperatorTo'].isnull()]['cmpLongName'].value_counts() # 121 - doesn't include NaN"
   ]
  },
  {
   "cell_type": "markdown",
   "metadata": {},
   "source": [
    "# Licensees"
   ]
  },
  {
   "cell_type": "code",
   "execution_count": 16,
   "metadata": {},
   "outputs": [],
   "source": [
    "licensees = load(fields[4])"
   ]
  },
  {
   "cell_type": "code",
   "execution_count": 18,
   "metadata": {},
   "outputs": [],
   "source": [
    "# Current licences don't have a date in 'fldLicenseeTo' field.\n",
    "curr_lic = licensees[licensees.fldLicenseeTo.isnull()]"
   ]
  },
  {
   "cell_type": "markdown",
   "metadata": {},
   "source": [
    "## Current Licensee Companies"
   ]
  },
  {
   "cell_type": "code",
   "execution_count": 56,
   "metadata": {},
   "outputs": [
    {
     "data": {
      "text/plain": [
       "<AxesSubplot:>"
      ]
     },
     "execution_count": 56,
     "metadata": {},
     "output_type": "execute_result"
    },
    {
     "data": {
      "image/png": "[encoded data removed]",
      "text/plain": [
       "<Figure size 2160x432 with 1 Axes>"
      ]
     },
     "metadata": {
      "needs_background": "light"
     },
     "output_type": "display_data"
    }
   ],
   "source": [
    "curr_lic.cmpLongName.value_counts().plot(kind='bar', figsize=(30,6), fontsize=26)"
   ]
  },
  {
   "cell_type": "code",
   "execution_count": 21,
   "metadata": {},
   "outputs": [
    {
     "data": {
      "text/plain": [
       "fldName                   124\n",
       "fldOwnerName              107\n",
       "fldOwnerKind                2\n",
       "fldOwnerFrom              102\n",
       "fldOwnerTo                  2\n",
       "fldLicenseeFrom            33\n",
       "fldLicenseeTo               3\n",
       "cmpLongName                20\n",
       "fldCompanyShare            69\n",
       "fldSdfiShare                0\n",
       "fldNpdidField             124\n",
       "cmpNpdidCompany            20\n",
       "fldLicenseeDateUpdated     21\n",
       "dtype: int64"
      ]
     },
     "execution_count": 21,
     "metadata": {},
     "output_type": "execute_result"
    }
   ],
   "source": [
    "licensees.loc[licensees.groupby('fldName').fldLicenseeFrom.idxmax(),:].nunique()"
   ]
  },
  {
   "cell_type": "markdown",
   "metadata": {},
   "source": [
    "## Number of Licensees per Field"
   ]
  },
  {
   "cell_type": "code",
   "execution_count": 22,
   "metadata": {},
   "outputs": [
    {
     "data": {
      "text/plain": [
       "fldName\n",
       "AASTA HANSTEEN      4\n",
       "ALBUSKJELL          5\n",
       "ALVE                3\n",
       "ALVHEIM             3\n",
       "ATLA                4\n",
       "BALDER              2\n",
       "BAUGE               4\n",
       "BLANE               5\n",
       "BRAGE               5\n",
       "BRYNHILD            2\n",
       "BYRDING             3\n",
       "BØYLA               3\n",
       "COD                 5\n",
       "DRAUGEN             3\n",
       "DUVA                4\n",
       "DVALIN              3\n",
       "EDDA                5\n",
       "EDVARD GRIEG        3\n",
       "EKOFISK             5\n",
       "ELDFISK             5\n",
       "EMBLA               5\n",
       "ENOCH               9\n",
       "FENJA               4\n",
       "FLYNDRE             5\n",
       "FRAM                4\n",
       "FRAM H-NORD         4\n",
       "FRIGG               2\n",
       "FRØY                2\n",
       "GAUPE               2\n",
       "GIMLE               3\n",
       "GINA KROG           3\n",
       "GJØA                4\n",
       "GOLIAT              2\n",
       "GRANE               4\n",
       "GUDRUN              4\n",
       "GULLFAKS            3\n",
       "GULLFAKS SØR        3\n",
       "GUNGNE              4\n",
       "GYDA                3\n",
       "HANZ                3\n",
       "HEIDRUN             4\n",
       "HEIMDAL             5\n",
       "HOD                 2\n",
       "HULDRA              3\n",
       "HYME                4\n",
       "ISLAY               2\n",
       "IVAR AASEN          7\n",
       "JOHAN CASTBERG      3\n",
       "JOHAN SVERDRUP      5\n",
       "JOTUN               3\n",
       "KNARR               3\n",
       "KRISTIN             4\n",
       "KVITEBJØRN          5\n",
       "LILLE-FRIGG         3\n",
       "MARIA               3\n",
       "MARTIN LINGE        2\n",
       "MARULK              4\n",
       "MIKKEL              3\n",
       "MIME                3\n",
       "MORVIN              3\n",
       "NJORD               3\n",
       "NORDØST FRIGG       2\n",
       "NORNE               3\n",
       "NOVA                5\n",
       "ODA                 4\n",
       "ODIN                2\n",
       "ORMEN LANGE         5\n",
       "OSEBERG             4\n",
       "OSEBERG SØR         4\n",
       "OSEBERG ØST         4\n",
       "OSELVAR             2\n",
       "REV                 2\n",
       "RINGHORNE ØST       3\n",
       "SIGYN               2\n",
       "SINDRE              3\n",
       "SKARV               4\n",
       "SKIRNE              3\n",
       "SKOGUL              2\n",
       "SKULD               3\n",
       "SLEIPNER VEST       4\n",
       "SLEIPNER ØST        4\n",
       "SNORRE              5\n",
       "SNØHVIT             5\n",
       "SOLVEIG             3\n",
       "STATFJORD           4\n",
       "STATFJORD NORD      4\n",
       "STATFJORD ØST       6\n",
       "SVALIN              3\n",
       "SYGNA               6\n",
       "TAMBAR              2\n",
       "TAMBAR ØST          5\n",
       "TOMMELITEN GAMMA    4\n",
       "TOR                 5\n",
       "TORDIS              5\n",
       "TRESTAKK            2\n",
       "TROLL               5\n",
       "TROLL BRENT B       5\n",
       "TRYM                2\n",
       "TUNE                3\n",
       "TYRIHANS            3\n",
       "ULA                 2\n",
       "URD                 3\n",
       "UTGARD              4\n",
       "VALE                3\n",
       "VALEMON             3\n",
       "VALHALL             2\n",
       "VARG                2\n",
       "VEGA                5\n",
       "VESLEFRIKK          4\n",
       "VEST EKOFISK        5\n",
       "VIGDIS              5\n",
       "VILJE               3\n",
       "VISUND              4\n",
       "VISUND SØR          4\n",
       "VOLUND              2\n",
       "YME                 4\n",
       "YTTERGRYTA          4\n",
       "ÅSGARD              4\n",
       "ÆRFUGL              4\n",
       "ØST FRIGG           3\n",
       "dtype: int64"
      ]
     },
     "execution_count": 22,
     "metadata": {},
     "output_type": "execute_result"
    }
   ],
   "source": [
    "curr_lic.groupby('fldName').size()"
   ]
  },
  {
   "cell_type": "code",
   "execution_count": 23,
   "metadata": {},
   "outputs": [
    {
     "name": "stdout",
     "output_type": "stream",
     "text": [
      "Number of Licensees: 232\n",
      "Number of Fields: 124\n"
     ]
    }
   ],
   "source": [
    "print(f\"Number of Licensees: {licensees['cmpLongName'].nunique()}\")\n",
    "print(f\"Number of Fields: {licensees['fldName'].nunique()}\")"
   ]
  },
  {
   "cell_type": "code",
   "execution_count": 24,
   "metadata": {},
   "outputs": [],
   "source": [
    "# licensees['cmpLongName'].unique()"
   ]
  },
  {
   "cell_type": "code",
   "execution_count": 25,
   "metadata": {},
   "outputs": [],
   "source": [
    "lotus = licensees[licensees['cmpLongName']=='LOTOS Exploration and Production Norge AS']"
   ]
  },
  {
   "cell_type": "code",
   "execution_count": 26,
   "metadata": {},
   "outputs": [],
   "source": [
    "lotus = lotus.loc[lotus.groupby('fldName').fldLicenseeFrom.idxmax(),:]"
   ]
  },
  {
   "cell_type": "code",
   "execution_count": 27,
   "metadata": {},
   "outputs": [
    {
     "name": "stdout",
     "output_type": "stream",
     "text": [
      "Number of licences: 12\n"
     ]
    }
   ],
   "source": [
    "print(f\"Number of licences: {len(lotus)}\")"
   ]
  },
  {
   "cell_type": "code",
   "execution_count": 28,
   "metadata": {},
   "outputs": [
    {
     "data": {
      "text/html": [
       "<div>\n",
       "<style scoped>\n",
       "    .dataframe tbody tr th:only-of-type {\n",
       "        vertical-align: middle;\n",
       "    }\n",
       "\n",
       "    .dataframe tbody tr th {\n",
       "        vertical-align: top;\n",
       "    }\n",
       "\n",
       "    .dataframe thead th {\n",
       "        text-align: right;\n",
       "    }\n",
       "</style>\n",
       "<table border=\"1\" class=\"dataframe\">\n",
       "  <thead>\n",
       "    <tr style=\"text-align: right;\">\n",
       "      <th></th>\n",
       "      <th>fldName</th>\n",
       "      <th>fldOwnerName</th>\n",
       "      <th>fldOwnerKind</th>\n",
       "      <th>fldOwnerFrom</th>\n",
       "      <th>fldOwnerTo</th>\n",
       "      <th>fldLicenseeFrom</th>\n",
       "      <th>fldLicenseeTo</th>\n",
       "      <th>cmpLongName</th>\n",
       "      <th>fldCompanyShare</th>\n",
       "      <th>fldSdfiShare</th>\n",
       "      <th>fldNpdidField</th>\n",
       "      <th>cmpNpdidCompany</th>\n",
       "      <th>fldLicenseeDateUpdated</th>\n",
       "    </tr>\n",
       "  </thead>\n",
       "  <tbody>\n",
       "    <tr>\n",
       "      <th>218</th>\n",
       "      <td>ATLA</td>\n",
       "      <td>102 C</td>\n",
       "      <td>PRODUCTION LICENSE</td>\n",
       "      <td>2011-11-04</td>\n",
       "      <td>NaN</td>\n",
       "      <td>2016-09-30</td>\n",
       "      <td>NaN</td>\n",
       "      <td>LOTOS Exploration and Production Norge AS</td>\n",
       "      <td>20.00</td>\n",
       "      <td>NaN</td>\n",
       "      <td>21106284</td>\n",
       "      <td>5064434</td>\n",
       "      <td>2019-10-03</td>\n",
       "    </tr>\n",
       "    <tr>\n",
       "      <th>2223</th>\n",
       "      <td>FRØY</td>\n",
       "      <td>364</td>\n",
       "      <td>PRODUCTION LICENSE</td>\n",
       "      <td>2006-01-06</td>\n",
       "      <td>NaN</td>\n",
       "      <td>2017-07-12</td>\n",
       "      <td>NaN</td>\n",
       "      <td>LOTOS Exploration and Production Norge AS</td>\n",
       "      <td>9.74</td>\n",
       "      <td>NaN</td>\n",
       "      <td>43597</td>\n",
       "      <td>5064434</td>\n",
       "      <td>2019-10-03</td>\n",
       "    </tr>\n",
       "    <tr>\n",
       "      <th>2629</th>\n",
       "      <td>GUNGNE</td>\n",
       "      <td>046</td>\n",
       "      <td>PRODUCTION LICENSE</td>\n",
       "      <td>1995-08-29</td>\n",
       "      <td>NaN</td>\n",
       "      <td>2019-12-10</td>\n",
       "      <td>NaN</td>\n",
       "      <td>LOTOS Exploration and Production Norge AS</td>\n",
       "      <td>15.00</td>\n",
       "      <td>NaN</td>\n",
       "      <td>43464</td>\n",
       "      <td>5064434</td>\n",
       "      <td>2019-12-12</td>\n",
       "    </tr>\n",
       "    <tr>\n",
       "      <th>2877</th>\n",
       "      <td>HEIMDAL</td>\n",
       "      <td>036 BS</td>\n",
       "      <td>PRODUCTION LICENSE</td>\n",
       "      <td>2003-10-13</td>\n",
       "      <td>NaN</td>\n",
       "      <td>2018-12-04</td>\n",
       "      <td>NaN</td>\n",
       "      <td>LOTOS Exploration and Production Norge AS</td>\n",
       "      <td>5.00</td>\n",
       "      <td>NaN</td>\n",
       "      <td>43590</td>\n",
       "      <td>5064434</td>\n",
       "      <td>2019-10-03</td>\n",
       "    </tr>\n",
       "    <tr>\n",
       "      <th>3660</th>\n",
       "      <td>LILLE-FRIGG</td>\n",
       "      <td>873</td>\n",
       "      <td>PRODUCTION LICENSE</td>\n",
       "      <td>2017-02-10</td>\n",
       "      <td>NaN</td>\n",
       "      <td>2018-05-16</td>\n",
       "      <td>NaN</td>\n",
       "      <td>LOTOS Exploration and Production Norge AS</td>\n",
       "      <td>20.00</td>\n",
       "      <td>NaN</td>\n",
       "      <td>43583</td>\n",
       "      <td>5064434</td>\n",
       "      <td>2019-10-03</td>\n",
       "    </tr>\n",
       "  </tbody>\n",
       "</table>\n",
       "</div>"
      ],
      "text/plain": [
       "          fldName fldOwnerName        fldOwnerKind fldOwnerFrom fldOwnerTo  \\\n",
       "218          ATLA        102 C  PRODUCTION LICENSE   2011-11-04        NaN   \n",
       "2223         FRØY          364  PRODUCTION LICENSE   2006-01-06        NaN   \n",
       "2629       GUNGNE          046  PRODUCTION LICENSE   1995-08-29        NaN   \n",
       "2877      HEIMDAL       036 BS  PRODUCTION LICENSE   2003-10-13        NaN   \n",
       "3660  LILLE-FRIGG          873  PRODUCTION LICENSE   2017-02-10        NaN   \n",
       "\n",
       "     fldLicenseeFrom fldLicenseeTo                                cmpLongName  \\\n",
       "218       2016-09-30           NaN  LOTOS Exploration and Production Norge AS   \n",
       "2223      2017-07-12           NaN  LOTOS Exploration and Production Norge AS   \n",
       "2629      2019-12-10           NaN  LOTOS Exploration and Production Norge AS   \n",
       "2877      2018-12-04           NaN  LOTOS Exploration and Production Norge AS   \n",
       "3660      2018-05-16           NaN  LOTOS Exploration and Production Norge AS   \n",
       "\n",
       "      fldCompanyShare  fldSdfiShare  fldNpdidField  cmpNpdidCompany  \\\n",
       "218             20.00           NaN       21106284          5064434   \n",
       "2223             9.74           NaN          43597          5064434   \n",
       "2629            15.00           NaN          43464          5064434   \n",
       "2877             5.00           NaN          43590          5064434   \n",
       "3660            20.00           NaN          43583          5064434   \n",
       "\n",
       "     fldLicenseeDateUpdated  \n",
       "218              2019-10-03  \n",
       "2223             2019-10-03  \n",
       "2629             2019-12-12  \n",
       "2877             2019-10-03  \n",
       "3660             2019-10-03  "
      ]
     },
     "execution_count": 28,
     "metadata": {},
     "output_type": "execute_result"
    }
   ],
   "source": [
    "lotus.head()"
   ]
  },
  {
   "cell_type": "code",
   "execution_count": 29,
   "metadata": {},
   "outputs": [
    {
     "data": {
      "text/plain": [
       "218              ATLA\n",
       "2223             FRØY\n",
       "2629           GUNGNE\n",
       "2877          HEIMDAL\n",
       "3660      LILLE-FRIGG\n",
       "5035           SKIRNE\n",
       "5076    SLEIPNER VEST\n",
       "5146     SLEIPNER ØST\n",
       "7323           UTGARD\n",
       "7330             VALE\n",
       "8208              YME\n",
       "8335        ØST FRIGG\n",
       "Name: fldName, dtype: object"
      ]
     },
     "execution_count": 29,
     "metadata": {},
     "output_type": "execute_result"
    }
   ],
   "source": [
    "lotus_fields = lotus['fldName']\n",
    "lotus_fields"
   ]
  },
  {
   "cell_type": "markdown",
   "metadata": {},
   "source": [
    "# Status"
   ]
  },
  {
   "cell_type": "code",
   "execution_count": 30,
   "metadata": {},
   "outputs": [],
   "source": [
    "status = load(fields[1])"
   ]
  },
  {
   "cell_type": "code",
   "execution_count": 31,
   "metadata": {},
   "outputs": [
    {
     "data": {
      "text/html": [
       "<div>\n",
       "<style scoped>\n",
       "    .dataframe tbody tr th:only-of-type {\n",
       "        vertical-align: middle;\n",
       "    }\n",
       "\n",
       "    .dataframe tbody tr th {\n",
       "        vertical-align: top;\n",
       "    }\n",
       "\n",
       "    .dataframe thead th {\n",
       "        text-align: right;\n",
       "    }\n",
       "</style>\n",
       "<table border=\"1\" class=\"dataframe\">\n",
       "  <thead>\n",
       "    <tr style=\"text-align: right;\">\n",
       "      <th></th>\n",
       "      <th>fldName</th>\n",
       "      <th>fldStatusFromDate</th>\n",
       "      <th>fldStatusToDate</th>\n",
       "      <th>fldStatus</th>\n",
       "      <th>fldNpdidField</th>\n",
       "      <th>fldStatusDateUpdated</th>\n",
       "    </tr>\n",
       "  </thead>\n",
       "  <tbody>\n",
       "    <tr>\n",
       "      <th>0</th>\n",
       "      <td>ALBUSKJELL</td>\n",
       "      <td>1975-04-25</td>\n",
       "      <td>1979-05-25</td>\n",
       "      <td>Approved for production</td>\n",
       "      <td>43437</td>\n",
       "      <td>2018-03-16</td>\n",
       "    </tr>\n",
       "    <tr>\n",
       "      <th>1</th>\n",
       "      <td>ALBUSKJELL</td>\n",
       "      <td>1979-05-26</td>\n",
       "      <td>1998-08-25</td>\n",
       "      <td>Producing</td>\n",
       "      <td>43437</td>\n",
       "      <td>2018-03-16</td>\n",
       "    </tr>\n",
       "    <tr>\n",
       "      <th>2</th>\n",
       "      <td>ALBUSKJELL</td>\n",
       "      <td>1998-08-26</td>\n",
       "      <td>NaT</td>\n",
       "      <td>Shut down</td>\n",
       "      <td>43437</td>\n",
       "      <td>2018-03-16</td>\n",
       "    </tr>\n",
       "    <tr>\n",
       "      <th>3</th>\n",
       "      <td>ALVE</td>\n",
       "      <td>2007-03-16</td>\n",
       "      <td>2009-03-18</td>\n",
       "      <td>Approved for production</td>\n",
       "      <td>4444332</td>\n",
       "      <td>2017-04-11</td>\n",
       "    </tr>\n",
       "    <tr>\n",
       "      <th>4</th>\n",
       "      <td>ALVE</td>\n",
       "      <td>2009-03-19</td>\n",
       "      <td>NaT</td>\n",
       "      <td>Producing</td>\n",
       "      <td>4444332</td>\n",
       "      <td>2017-04-11</td>\n",
       "    </tr>\n",
       "  </tbody>\n",
       "</table>\n",
       "</div>"
      ],
      "text/plain": [
       "      fldName fldStatusFromDate fldStatusToDate                fldStatus  \\\n",
       "0  ALBUSKJELL        1975-04-25      1979-05-25  Approved for production   \n",
       "1  ALBUSKJELL        1979-05-26      1998-08-25                Producing   \n",
       "2  ALBUSKJELL        1998-08-26             NaT                Shut down   \n",
       "3        ALVE        2007-03-16      2009-03-18  Approved for production   \n",
       "4        ALVE        2009-03-19             NaT                Producing   \n",
       "\n",
       "   fldNpdidField fldStatusDateUpdated  \n",
       "0          43437           2018-03-16  \n",
       "1          43437           2018-03-16  \n",
       "2          43437           2018-03-16  \n",
       "3        4444332           2017-04-11  \n",
       "4        4444332           2017-04-11  "
      ]
     },
     "execution_count": 31,
     "metadata": {},
     "output_type": "execute_result"
    }
   ],
   "source": [
    "status.head()"
   ]
  },
  {
   "cell_type": "code",
   "execution_count": 32,
   "metadata": {},
   "outputs": [],
   "source": [
    "status.dropna(inplace=True)\n",
    "\n",
    "status = status.loc[status.groupby('fldName').fldStatusToDate.idxmax(),:]"
   ]
  },
  {
   "cell_type": "code",
   "execution_count": 33,
   "metadata": {},
   "outputs": [
    {
     "data": {
      "text/plain": [
       "Approved for production    91\n",
       "Producing                  24\n",
       "Shut down                   1\n",
       "Name: fldStatus, dtype: int64"
      ]
     },
     "execution_count": 33,
     "metadata": {},
     "output_type": "execute_result"
    }
   ],
   "source": [
    "status['fldStatus'].value_counts()\n",
    "#  the headings and values look transposed"
   ]
  },
  {
   "cell_type": "code",
   "execution_count": 34,
   "metadata": {},
   "outputs": [
    {
     "data": {
      "text/plain": [
       "116"
      ]
     },
     "execution_count": 34,
     "metadata": {},
     "output_type": "execute_result"
    }
   ],
   "source": [
    "status['fldName'].nunique()"
   ]
  },
  {
   "cell_type": "markdown",
   "metadata": {},
   "source": [
    "# In place volumes"
   ]
  },
  {
   "cell_type": "code",
   "execution_count": 35,
   "metadata": {},
   "outputs": [],
   "source": [
    "inplacevols = load(fields[6])"
   ]
  },
  {
   "cell_type": "markdown",
   "metadata": {},
   "source": [
    "## In place volumes for specified Company"
   ]
  },
  {
   "cell_type": "code",
   "execution_count": 37,
   "metadata": {},
   "outputs": [],
   "source": [
    "ipvols_lotus = pd.DataFrame()\n",
    "# type to list for iterable\n",
    "for field in list(lotus_fields):\n",
    "    if field in list(inplacevols['fldName']):\n",
    "        ipvols_lotus = ipvols_lotus.append(inplacevols[inplacevols['fldName']==field])\n",
    "\n",
    "ipvols_lotus.loc['Column_Total'] = ipvols_lotus.sum(numeric_only=True, axis=0)"
   ]
  },
  {
   "cell_type": "code",
   "execution_count": 38,
   "metadata": {},
   "outputs": [
    {
     "data": {
      "text/html": [
       "<div>\n",
       "<style scoped>\n",
       "    .dataframe tbody tr th:only-of-type {\n",
       "        vertical-align: middle;\n",
       "    }\n",
       "\n",
       "    .dataframe tbody tr th {\n",
       "        vertical-align: top;\n",
       "    }\n",
       "\n",
       "    .dataframe thead th {\n",
       "        text-align: right;\n",
       "    }\n",
       "</style>\n",
       "<table border=\"1\" class=\"dataframe\">\n",
       "  <thead>\n",
       "    <tr style=\"text-align: right;\">\n",
       "      <th></th>\n",
       "      <th>fldName</th>\n",
       "      <th>fldInplaceOil</th>\n",
       "      <th>fldInplaceAssLiquid</th>\n",
       "      <th>fldInplaceAssGas</th>\n",
       "      <th>fldInplaceFreeGas</th>\n",
       "      <th>fldDateOffResEstDisplay</th>\n",
       "      <th>fldNpdidField</th>\n",
       "    </tr>\n",
       "  </thead>\n",
       "  <tbody>\n",
       "    <tr>\n",
       "      <th>3</th>\n",
       "      <td>ATLA</td>\n",
       "      <td>0.0</td>\n",
       "      <td>0.0</td>\n",
       "      <td>0.0</td>\n",
       "      <td>1.88</td>\n",
       "      <td>2019-12-31</td>\n",
       "      <td>21106284.0</td>\n",
       "    </tr>\n",
       "    <tr>\n",
       "      <th>26</th>\n",
       "      <td>FRØY</td>\n",
       "      <td>27.0</td>\n",
       "      <td>0.0</td>\n",
       "      <td>6.0</td>\n",
       "      <td>0.00</td>\n",
       "      <td>2019-12-31</td>\n",
       "      <td>43597.0</td>\n",
       "    </tr>\n",
       "    <tr>\n",
       "      <th>37</th>\n",
       "      <td>GUNGNE</td>\n",
       "      <td>0.0</td>\n",
       "      <td>15.0</td>\n",
       "      <td>0.0</td>\n",
       "      <td>19.62</td>\n",
       "      <td>2019-12-31</td>\n",
       "      <td>43464.0</td>\n",
       "    </tr>\n",
       "    <tr>\n",
       "      <th>41</th>\n",
       "      <td>HEIMDAL</td>\n",
       "      <td>11.0</td>\n",
       "      <td>0.0</td>\n",
       "      <td>0.0</td>\n",
       "      <td>61.40</td>\n",
       "      <td>2019-12-31</td>\n",
       "      <td>43590.0</td>\n",
       "    </tr>\n",
       "    <tr>\n",
       "      <th>54</th>\n",
       "      <td>LILLE-FRIGG</td>\n",
       "      <td>4.0</td>\n",
       "      <td>0.0</td>\n",
       "      <td>7.0</td>\n",
       "      <td>0.00</td>\n",
       "      <td>2019-12-31</td>\n",
       "      <td>43583.0</td>\n",
       "    </tr>\n",
       "    <tr>\n",
       "      <th>78</th>\n",
       "      <td>SKIRNE</td>\n",
       "      <td>5.0</td>\n",
       "      <td>0.0</td>\n",
       "      <td>0.0</td>\n",
       "      <td>14.72</td>\n",
       "      <td>2019-12-31</td>\n",
       "      <td>2138816.0</td>\n",
       "    </tr>\n",
       "    <tr>\n",
       "      <th>81</th>\n",
       "      <td>SLEIPNER VEST</td>\n",
       "      <td>0.0</td>\n",
       "      <td>79.0</td>\n",
       "      <td>0.0</td>\n",
       "      <td>185.11</td>\n",
       "      <td>2019-12-31</td>\n",
       "      <td>43457.0</td>\n",
       "    </tr>\n",
       "    <tr>\n",
       "      <th>82</th>\n",
       "      <td>SLEIPNER ØST</td>\n",
       "      <td>0.0</td>\n",
       "      <td>77.0</td>\n",
       "      <td>0.0</td>\n",
       "      <td>90.70</td>\n",
       "      <td>2019-12-31</td>\n",
       "      <td>43478.0</td>\n",
       "    </tr>\n",
       "    <tr>\n",
       "      <th>103</th>\n",
       "      <td>UTGARD</td>\n",
       "      <td>0.0</td>\n",
       "      <td>6.0</td>\n",
       "      <td>0.0</td>\n",
       "      <td>4.97</td>\n",
       "      <td>2019-12-31</td>\n",
       "      <td>28975098.0</td>\n",
       "    </tr>\n",
       "    <tr>\n",
       "      <th>104</th>\n",
       "      <td>VALE</td>\n",
       "      <td>0.0</td>\n",
       "      <td>10.0</td>\n",
       "      <td>0.0</td>\n",
       "      <td>8.30</td>\n",
       "      <td>2019-12-31</td>\n",
       "      <td>1578893.0</td>\n",
       "    </tr>\n",
       "    <tr>\n",
       "      <th>117</th>\n",
       "      <td>YME</td>\n",
       "      <td>55.0</td>\n",
       "      <td>0.0</td>\n",
       "      <td>3.0</td>\n",
       "      <td>0.00</td>\n",
       "      <td>2019-12-31</td>\n",
       "      <td>43807.0</td>\n",
       "    </tr>\n",
       "    <tr>\n",
       "      <th>120</th>\n",
       "      <td>ØST FRIGG</td>\n",
       "      <td>0.0</td>\n",
       "      <td>0.0</td>\n",
       "      <td>0.0</td>\n",
       "      <td>21.37</td>\n",
       "      <td>2019-12-31</td>\n",
       "      <td>43576.0</td>\n",
       "    </tr>\n",
       "    <tr>\n",
       "      <th>Column_Total</th>\n",
       "      <td>NaN</td>\n",
       "      <td>102.0</td>\n",
       "      <td>187.0</td>\n",
       "      <td>16.0</td>\n",
       "      <td>408.07</td>\n",
       "      <td>NaT</td>\n",
       "      <td>54147643.0</td>\n",
       "    </tr>\n",
       "  </tbody>\n",
       "</table>\n",
       "</div>"
      ],
      "text/plain": [
       "                    fldName  fldInplaceOil  fldInplaceAssLiquid  \\\n",
       "3                      ATLA            0.0                  0.0   \n",
       "26                     FRØY           27.0                  0.0   \n",
       "37                   GUNGNE            0.0                 15.0   \n",
       "41                  HEIMDAL           11.0                  0.0   \n",
       "54              LILLE-FRIGG            4.0                  0.0   \n",
       "78                   SKIRNE            5.0                  0.0   \n",
       "81            SLEIPNER VEST            0.0                 79.0   \n",
       "82             SLEIPNER ØST            0.0                 77.0   \n",
       "103                  UTGARD            0.0                  6.0   \n",
       "104                    VALE            0.0                 10.0   \n",
       "117                     YME           55.0                  0.0   \n",
       "120               ØST FRIGG            0.0                  0.0   \n",
       "Column_Total            NaN          102.0                187.0   \n",
       "\n",
       "              fldInplaceAssGas  fldInplaceFreeGas fldDateOffResEstDisplay  \\\n",
       "3                          0.0               1.88              2019-12-31   \n",
       "26                         6.0               0.00              2019-12-31   \n",
       "37                         0.0              19.62              2019-12-31   \n",
       "41                         0.0              61.40              2019-12-31   \n",
       "54                         7.0               0.00              2019-12-31   \n",
       "78                         0.0              14.72              2019-12-31   \n",
       "81                         0.0             185.11              2019-12-31   \n",
       "82                         0.0              90.70              2019-12-31   \n",
       "103                        0.0               4.97              2019-12-31   \n",
       "104                        0.0               8.30              2019-12-31   \n",
       "117                        3.0               0.00              2019-12-31   \n",
       "120                        0.0              21.37              2019-12-31   \n",
       "Column_Total              16.0             408.07                     NaT   \n",
       "\n",
       "              fldNpdidField  \n",
       "3                21106284.0  \n",
       "26                  43597.0  \n",
       "37                  43464.0  \n",
       "41                  43590.0  \n",
       "54                  43583.0  \n",
       "78                2138816.0  \n",
       "81                  43457.0  \n",
       "82                  43478.0  \n",
       "103              28975098.0  \n",
       "104               1578893.0  \n",
       "117                 43807.0  \n",
       "120                 43576.0  \n",
       "Column_Total     54147643.0  "
      ]
     },
     "execution_count": 38,
     "metadata": {},
     "output_type": "execute_result"
    }
   ],
   "source": [
    "ipvols_lotus"
   ]
  },
  {
   "cell_type": "markdown",
   "metadata": {},
   "source": [
    "# Reserves"
   ]
  },
  {
   "cell_type": "code",
   "execution_count": 39,
   "metadata": {},
   "outputs": [],
   "source": [
    "reserves = load(fields[5])"
   ]
  },
  {
   "cell_type": "markdown",
   "metadata": {},
   "source": [
    "## Reserves for specified Company"
   ]
  },
  {
   "cell_type": "code",
   "execution_count": 41,
   "metadata": {},
   "outputs": [],
   "source": [
    "reserves_lotus = pd.DataFrame()\n",
    "# type to list for iterable\n",
    "for field in list(lotus_fields):\n",
    "    if field in list(reserves['fldName']):\n",
    "        reserves_lotus = reserves_lotus.append(inplacevols[inplacevols['fldName']==field])\n",
    "\n",
    "# reserves_lotus.loc[:,'Row_Total'] = reserves_lotus.sum(numeric_only=True, axis=1)\n",
    "reserves_lotus.loc['Column_Total'] = reserves_lotus.sum(numeric_only=True, axis=0)"
   ]
  },
  {
   "cell_type": "code",
   "execution_count": 42,
   "metadata": {},
   "outputs": [
    {
     "data": {
      "text/html": [
       "<div>\n",
       "<style scoped>\n",
       "    .dataframe tbody tr th:only-of-type {\n",
       "        vertical-align: middle;\n",
       "    }\n",
       "\n",
       "    .dataframe tbody tr th {\n",
       "        vertical-align: top;\n",
       "    }\n",
       "\n",
       "    .dataframe thead th {\n",
       "        text-align: right;\n",
       "    }\n",
       "</style>\n",
       "<table border=\"1\" class=\"dataframe\">\n",
       "  <thead>\n",
       "    <tr style=\"text-align: right;\">\n",
       "      <th></th>\n",
       "      <th>fldName</th>\n",
       "      <th>fldInplaceOil</th>\n",
       "      <th>fldInplaceAssLiquid</th>\n",
       "      <th>fldInplaceAssGas</th>\n",
       "      <th>fldInplaceFreeGas</th>\n",
       "      <th>fldDateOffResEstDisplay</th>\n",
       "      <th>fldNpdidField</th>\n",
       "    </tr>\n",
       "  </thead>\n",
       "  <tbody>\n",
       "    <tr>\n",
       "      <th>3</th>\n",
       "      <td>ATLA</td>\n",
       "      <td>0.0</td>\n",
       "      <td>0.0</td>\n",
       "      <td>0.0</td>\n",
       "      <td>1.88</td>\n",
       "      <td>2019-12-31</td>\n",
       "      <td>21106284.0</td>\n",
       "    </tr>\n",
       "    <tr>\n",
       "      <th>26</th>\n",
       "      <td>FRØY</td>\n",
       "      <td>27.0</td>\n",
       "      <td>0.0</td>\n",
       "      <td>6.0</td>\n",
       "      <td>0.00</td>\n",
       "      <td>2019-12-31</td>\n",
       "      <td>43597.0</td>\n",
       "    </tr>\n",
       "    <tr>\n",
       "      <th>37</th>\n",
       "      <td>GUNGNE</td>\n",
       "      <td>0.0</td>\n",
       "      <td>15.0</td>\n",
       "      <td>0.0</td>\n",
       "      <td>19.62</td>\n",
       "      <td>2019-12-31</td>\n",
       "      <td>43464.0</td>\n",
       "    </tr>\n",
       "    <tr>\n",
       "      <th>41</th>\n",
       "      <td>HEIMDAL</td>\n",
       "      <td>11.0</td>\n",
       "      <td>0.0</td>\n",
       "      <td>0.0</td>\n",
       "      <td>61.40</td>\n",
       "      <td>2019-12-31</td>\n",
       "      <td>43590.0</td>\n",
       "    </tr>\n",
       "    <tr>\n",
       "      <th>54</th>\n",
       "      <td>LILLE-FRIGG</td>\n",
       "      <td>4.0</td>\n",
       "      <td>0.0</td>\n",
       "      <td>7.0</td>\n",
       "      <td>0.00</td>\n",
       "      <td>2019-12-31</td>\n",
       "      <td>43583.0</td>\n",
       "    </tr>\n",
       "    <tr>\n",
       "      <th>78</th>\n",
       "      <td>SKIRNE</td>\n",
       "      <td>5.0</td>\n",
       "      <td>0.0</td>\n",
       "      <td>0.0</td>\n",
       "      <td>14.72</td>\n",
       "      <td>2019-12-31</td>\n",
       "      <td>2138816.0</td>\n",
       "    </tr>\n",
       "    <tr>\n",
       "      <th>81</th>\n",
       "      <td>SLEIPNER VEST</td>\n",
       "      <td>0.0</td>\n",
       "      <td>79.0</td>\n",
       "      <td>0.0</td>\n",
       "      <td>185.11</td>\n",
       "      <td>2019-12-31</td>\n",
       "      <td>43457.0</td>\n",
       "    </tr>\n",
       "    <tr>\n",
       "      <th>82</th>\n",
       "      <td>SLEIPNER ØST</td>\n",
       "      <td>0.0</td>\n",
       "      <td>77.0</td>\n",
       "      <td>0.0</td>\n",
       "      <td>90.70</td>\n",
       "      <td>2019-12-31</td>\n",
       "      <td>43478.0</td>\n",
       "    </tr>\n",
       "    <tr>\n",
       "      <th>103</th>\n",
       "      <td>UTGARD</td>\n",
       "      <td>0.0</td>\n",
       "      <td>6.0</td>\n",
       "      <td>0.0</td>\n",
       "      <td>4.97</td>\n",
       "      <td>2019-12-31</td>\n",
       "      <td>28975098.0</td>\n",
       "    </tr>\n",
       "    <tr>\n",
       "      <th>104</th>\n",
       "      <td>VALE</td>\n",
       "      <td>0.0</td>\n",
       "      <td>10.0</td>\n",
       "      <td>0.0</td>\n",
       "      <td>8.30</td>\n",
       "      <td>2019-12-31</td>\n",
       "      <td>1578893.0</td>\n",
       "    </tr>\n",
       "    <tr>\n",
       "      <th>117</th>\n",
       "      <td>YME</td>\n",
       "      <td>55.0</td>\n",
       "      <td>0.0</td>\n",
       "      <td>3.0</td>\n",
       "      <td>0.00</td>\n",
       "      <td>2019-12-31</td>\n",
       "      <td>43807.0</td>\n",
       "    </tr>\n",
       "    <tr>\n",
       "      <th>120</th>\n",
       "      <td>ØST FRIGG</td>\n",
       "      <td>0.0</td>\n",
       "      <td>0.0</td>\n",
       "      <td>0.0</td>\n",
       "      <td>21.37</td>\n",
       "      <td>2019-12-31</td>\n",
       "      <td>43576.0</td>\n",
       "    </tr>\n",
       "    <tr>\n",
       "      <th>Column_Total</th>\n",
       "      <td>NaN</td>\n",
       "      <td>102.0</td>\n",
       "      <td>187.0</td>\n",
       "      <td>16.0</td>\n",
       "      <td>408.07</td>\n",
       "      <td>NaT</td>\n",
       "      <td>54147643.0</td>\n",
       "    </tr>\n",
       "  </tbody>\n",
       "</table>\n",
       "</div>"
      ],
      "text/plain": [
       "                    fldName  fldInplaceOil  fldInplaceAssLiquid  \\\n",
       "3                      ATLA            0.0                  0.0   \n",
       "26                     FRØY           27.0                  0.0   \n",
       "37                   GUNGNE            0.0                 15.0   \n",
       "41                  HEIMDAL           11.0                  0.0   \n",
       "54              LILLE-FRIGG            4.0                  0.0   \n",
       "78                   SKIRNE            5.0                  0.0   \n",
       "81            SLEIPNER VEST            0.0                 79.0   \n",
       "82             SLEIPNER ØST            0.0                 77.0   \n",
       "103                  UTGARD            0.0                  6.0   \n",
       "104                    VALE            0.0                 10.0   \n",
       "117                     YME           55.0                  0.0   \n",
       "120               ØST FRIGG            0.0                  0.0   \n",
       "Column_Total            NaN          102.0                187.0   \n",
       "\n",
       "              fldInplaceAssGas  fldInplaceFreeGas fldDateOffResEstDisplay  \\\n",
       "3                          0.0               1.88              2019-12-31   \n",
       "26                         6.0               0.00              2019-12-31   \n",
       "37                         0.0              19.62              2019-12-31   \n",
       "41                         0.0              61.40              2019-12-31   \n",
       "54                         7.0               0.00              2019-12-31   \n",
       "78                         0.0              14.72              2019-12-31   \n",
       "81                         0.0             185.11              2019-12-31   \n",
       "82                         0.0              90.70              2019-12-31   \n",
       "103                        0.0               4.97              2019-12-31   \n",
       "104                        0.0               8.30              2019-12-31   \n",
       "117                        3.0               0.00              2019-12-31   \n",
       "120                        0.0              21.37              2019-12-31   \n",
       "Column_Total              16.0             408.07                     NaT   \n",
       "\n",
       "              fldNpdidField  \n",
       "3                21106284.0  \n",
       "26                  43597.0  \n",
       "37                  43464.0  \n",
       "41                  43590.0  \n",
       "54                  43583.0  \n",
       "78                2138816.0  \n",
       "81                  43457.0  \n",
       "82                  43478.0  \n",
       "103              28975098.0  \n",
       "104               1578893.0  \n",
       "117                 43807.0  \n",
       "120                 43576.0  \n",
       "Column_Total     54147643.0  "
      ]
     },
     "execution_count": 42,
     "metadata": {},
     "output_type": "execute_result"
    }
   ],
   "source": [
    "reserves_lotus"
   ]
  },
  {
   "cell_type": "markdown",
   "metadata": {},
   "source": [
    "# Description"
   ]
  },
  {
   "cell_type": "code",
   "execution_count": 43,
   "metadata": {},
   "outputs": [],
   "source": [
    "description = load(fields[7])"
   ]
  },
  {
   "cell_type": "code",
   "execution_count": 44,
   "metadata": {},
   "outputs": [
    {
     "data": {
      "text/html": [
       "<div>\n",
       "<style scoped>\n",
       "    .dataframe tbody tr th:only-of-type {\n",
       "        vertical-align: middle;\n",
       "    }\n",
       "\n",
       "    .dataframe tbody tr th {\n",
       "        vertical-align: top;\n",
       "    }\n",
       "\n",
       "    .dataframe thead th {\n",
       "        text-align: right;\n",
       "    }\n",
       "</style>\n",
       "<table border=\"1\" class=\"dataframe\">\n",
       "  <thead>\n",
       "    <tr style=\"text-align: right;\">\n",
       "      <th></th>\n",
       "      <th>fldName</th>\n",
       "      <th>fldDescriptionHeading</th>\n",
       "      <th>fldDescriptionText</th>\n",
       "      <th>fldNpdidField</th>\n",
       "      <th>fldDescriptionDateUpdated</th>\n",
       "    </tr>\n",
       "  </thead>\n",
       "  <tbody>\n",
       "    <tr>\n",
       "      <th>0</th>\n",
       "      <td>ALBUSKJELL</td>\n",
       "      <td>Development</td>\n",
       "      <td>Albuskjell is a field in the southern part of ...</td>\n",
       "      <td>43437</td>\n",
       "      <td>2020-02-08</td>\n",
       "    </tr>\n",
       "    <tr>\n",
       "      <th>1</th>\n",
       "      <td>ALBUSKJELL</td>\n",
       "      <td>Reservoir</td>\n",
       "      <td>Albuskjell produced gas and condensate from Ma...</td>\n",
       "      <td>43437</td>\n",
       "      <td>2018-03-16</td>\n",
       "    </tr>\n",
       "    <tr>\n",
       "      <th>2</th>\n",
       "      <td>ALBUSKJELL</td>\n",
       "      <td>Recovery</td>\n",
       "      <td>The field was produced by pressure depletion.</td>\n",
       "      <td>43437</td>\n",
       "      <td>2017-04-11</td>\n",
       "    </tr>\n",
       "    <tr>\n",
       "      <th>3</th>\n",
       "      <td>ALBUSKJELL</td>\n",
       "      <td>Transport</td>\n",
       "      <td>The well stream was transported via pipeline t...</td>\n",
       "      <td>43437</td>\n",
       "      <td>2018-03-16</td>\n",
       "    </tr>\n",
       "    <tr>\n",
       "      <th>4</th>\n",
       "      <td>ALBUSKJELL</td>\n",
       "      <td>Status</td>\n",
       "      <td>The field was shut down in 1998 and the platfo...</td>\n",
       "      <td>43437</td>\n",
       "      <td>2020-02-08</td>\n",
       "    </tr>\n",
       "  </tbody>\n",
       "</table>\n",
       "</div>"
      ],
      "text/plain": [
       "      fldName fldDescriptionHeading  \\\n",
       "0  ALBUSKJELL          Development    \n",
       "1  ALBUSKJELL            Reservoir    \n",
       "2  ALBUSKJELL             Recovery    \n",
       "3  ALBUSKJELL            Transport    \n",
       "4  ALBUSKJELL               Status    \n",
       "\n",
       "                                  fldDescriptionText  fldNpdidField  \\\n",
       "0  Albuskjell is a field in the southern part of ...          43437   \n",
       "1  Albuskjell produced gas and condensate from Ma...          43437   \n",
       "2      The field was produced by pressure depletion.          43437   \n",
       "3  The well stream was transported via pipeline t...          43437   \n",
       "4  The field was shut down in 1998 and the platfo...          43437   \n",
       "\n",
       "  fldDescriptionDateUpdated  \n",
       "0                2020-02-08  \n",
       "1                2018-03-16  \n",
       "2                2017-04-11  \n",
       "3                2018-03-16  \n",
       "4                2020-02-08  "
      ]
     },
     "execution_count": 44,
     "metadata": {},
     "output_type": "execute_result"
    }
   ],
   "source": [
    "description.head()"
   ]
  },
  {
   "cell_type": "code",
   "execution_count": null,
   "metadata": {},
   "outputs": [],
   "source": []
  }
 ],
 "metadata": {
  "kernelspec": {
   "display_name": "Python 3",
   "language": "python",
   "name": "python3"
  },
  "language_info": {
   "codemirror_mode": {
    "name": "ipython",
    "version": 3
   },
   "file_extension": ".py",
   "mimetype": "text/x-python",
   "name": "python",
   "nbconvert_exporter": "python",
   "pygments_lexer": "ipython3",
   "version": "3.8.5"
  }
 },
 "nbformat": 4,
 "nbformat_minor": 4
}
