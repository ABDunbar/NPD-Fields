{
 "cells": [
  {
   "cell_type": "markdown",
   "metadata": {},
   "source": [
    "# NPD Field data analysis and visualisation\n",
    "## https://factpages.npd.no/en/field/tableview/overview\n",
    "This notebook contains analysis and visualisations of the data available for export under the 'Field' tab at the link above.\n",
    "\n",
    "The process is to specify a Company licensee and display the Fields they have an interest in. From this, the in place volumes and reserves of those fields, with totals, can be extracted and displayed.\n",
    "\n",
    "There is also visualisations on number of Licensees and the number of fields they have an interest in, number of producing fields, breakdown of fields by area (North Sea, Norwegian Sea and Barents Sea)."
   ]
  },
  {
   "cell_type": "code",
   "execution_count": 1,
   "metadata": {},
   "outputs": [],
   "source": [
    "import pandas as pd\n",
    "import numpy as np\n",
    "import matplotlib.pyplot as plt\n",
    "import seaborn as sns\n",
    "%matplotlib inline\n",
    "\n",
    "sns.set_theme()\n",
    "pd.options.display.max_rows = 500"
   ]
  },
  {
   "cell_type": "code",
   "execution_count": 2,
   "metadata": {},
   "outputs": [],
   "source": [
    "# This list represents the data under the Field tab (plus one under the Company tab).\n",
    "# The list items are used as keys to the links which are held in the load package.\n",
    "\n",
    "fields = ['field_overview',\n",
    "          'field_status',\n",
    "          'field_operators',\n",
    "          'field_owners',\n",
    "          'field_licensees',\n",
    "          'field_reserves',\n",
    "          'field_inplaceVol',\n",
    "          'field_description',\n",
    "          'comp_reserves',\n",
    "         ]"
   ]
  },
  {
   "cell_type": "code",
   "execution_count": 3,
   "metadata": {},
   "outputs": [],
   "source": [
    "from load import load, calculate"
   ]
  },
  {
   "cell_type": "markdown",
   "metadata": {},
   "source": [
    "# Field Licensees"
   ]
  },
  {
   "cell_type": "code",
   "execution_count": 4,
   "metadata": {},
   "outputs": [],
   "source": [
    "licensees = load(fields[4])"
   ]
  },
  {
   "cell_type": "code",
   "execution_count": 5,
   "metadata": {},
   "outputs": [],
   "source": [
    "# Current licences don't have a date in 'fldLicenseeTo' field.\n",
    "curr_lic = licensees[licensees.fldLicenseeTo.isnull()]\n",
    "data = curr_lic.cmpLongName.value_counts()"
   ]
  },
  {
   "cell_type": "markdown",
   "metadata": {},
   "source": [
    "## Current Field Licensee Companies"
   ]
  },
  {
   "cell_type": "code",
   "execution_count": 6,
   "metadata": {},
   "outputs": [
    {
     "name": "stdout",
     "output_type": "stream",
     "text": [
      "[(1, 'Equinor Energy AS'), (2, 'Petoro AS'), (3, 'Vår Energi AS'), (4, 'Total E&P Norge AS'), (5, 'Wintershall Dea Norge AS'), (6, 'Aker BP ASA'), (7, 'ConocoPhillips Skandinavia AS'), (8, 'Neptune Energy Norge AS'), (9, 'Spirit Energy Norway AS'), (10, 'DNO Norge AS'), (11, 'LOTOS Exploration and Production Norge AS'), (12, 'Repsol Norge AS'), (13, 'Idemitsu Petroleum Norge AS'), (14, 'PGNiG Upstream Norway AS'), (15, 'Lundin Energy Norway AS'), (16, 'KUFPEC Norway AS'), (17, 'A/S Norske Shell'), (18, 'OMV (Norge) AS'), (19, 'Wellesley Petroleum AS'), (20, 'OKEA ASA'), (21, 'INEOS E&P Norge AS'), (22, 'Suncor Energy Norge AS'), (23, 'DNO North Sea (ROGB) Limited'), (24, 'Petrolia NOCO AS'), (25, 'CapeOmega AS'), (26, 'Repsol Sinopec North Sea Limited'), (27, 'Repsol Sinopec Resources UK Limited'), (28, 'Mime Petroleum AS'), (29, 'Dana Petroleum (BVUK) Limited'), (30, 'Sval Energi AS'), (31, 'Pandion Energy AS'), (32, 'Edison Norge AS'), (33, 'Chrysaor Norge AS'), (34, 'ONE-Dyas Norge AS'), (35, 'Total E&P UK Ltd'), (36, 'Concedo AS'), (37, 'DNO North Sea (UK) Limited'), (38, 'Equinor UK Limited'), (39, 'Waldorf Production UK Limited'), (40, 'NEO Energy Production UK Limited'), (41, 'Spirit Energy Resources Limited'), (42, 'Source Energy AS'), (43, 'Repsol Sinopec LNS Limited')]\n",
      "Select a company by associate number: 23\n",
      "****************************************************\n",
      "Selected company is DNO North Sea (ROGB) Limited\n"
     ]
    }
   ],
   "source": [
    "# Select a company by the integer value to be used as input to the Company specific visualisations\n",
    "licence_companies = list(enumerate(data.index, start=1))\n",
    "print(licence_companies)\n",
    "select = int(input(\"Select a company by associate number: \"))\n",
    "company = licence_companies[select-1][1]\n",
    "print(\"*\"*52)\n",
    "print(f\"Selected company is {company}\")"
   ]
  },
  {
   "cell_type": "code",
   "execution_count": 7,
   "metadata": {},
   "outputs": [],
   "source": [
    "# Format label strings to only show first word in Company long name\n",
    "labels = data.index\n",
    "labelf = [f'{label.split()[0]}' for label in labels]"
   ]
  },
  {
   "cell_type": "markdown",
   "metadata": {},
   "source": [
    "## Plot a list of all companies that have a current interest is Fields on the NCS"
   ]
  },
  {
   "cell_type": "code",
   "execution_count": null,
   "metadata": {},
   "outputs": [],
   "source": [
    "fig, ax = plt.subplots(figsize=(15, 6), tight_layout=True)\n",
    "data.plot(kind='bar')\n",
    "ax.xaxis.set_ticklabels(labelf)\n",
    "plt.xticks(rotation=90); plt.title('Field Licensees and number of fields', fontsize=22)\n",
    "plt.gca().get_xticklabels()[select-1].set_color('red')\n",
    "plt.savefig('Field_licensees.png')\n",
    "plt.show()"
   ]
  },
  {
   "cell_type": "code",
   "execution_count": null,
   "metadata": {},
   "outputs": [],
   "source": [
    "company_licences = licensees[licensees['cmpLongName']==company]\n",
    "company_licences = company_licences.loc[company_licences.groupby('fldName').fldLicenseeFrom.idxmax(),:]"
   ]
  },
  {
   "cell_type": "markdown",
   "metadata": {},
   "source": [
    "## Print the number of Fields that the selected company has an interest in"
   ]
  },
  {
   "cell_type": "code",
   "execution_count": null,
   "metadata": {},
   "outputs": [],
   "source": [
    "print(f\"Number of Fields for {company}: {len(company_licences)}\")"
   ]
  },
  {
   "cell_type": "code",
   "execution_count": null,
   "metadata": {},
   "outputs": [],
   "source": [
    "company_fields = company_licences['fldName']\n",
    "company_fields"
   ]
  },
  {
   "cell_type": "code",
   "execution_count": null,
   "metadata": {},
   "outputs": [],
   "source": [
    "inplacevols = load(fields[6])"
   ]
  },
  {
   "cell_type": "markdown",
   "metadata": {},
   "source": [
    "# In place volumes for specified Company"
   ]
  },
  {
   "cell_type": "code",
   "execution_count": null,
   "metadata": {},
   "outputs": [],
   "source": [
    "company_inplacevols = calculate(company_fields, inplacevols)\n",
    "company_inplacevols.to_csv('in_place_volumes.csv', index=False);"
   ]
  },
  {
   "cell_type": "code",
   "execution_count": null,
   "metadata": {},
   "outputs": [],
   "source": [
    "company_inplacevols"
   ]
  },
  {
   "cell_type": "code",
   "execution_count": null,
   "metadata": {},
   "outputs": [],
   "source": [
    "# Field reserves\n",
    "reserves = load(fields[5])\n",
    "# Field reserves at Company share ('fldCompanyShare')\n",
    "reserves_comp = load(fields[-1]) "
   ]
  },
  {
   "cell_type": "markdown",
   "metadata": {},
   "source": [
    "# Reserves for each Field the specified company has an interest in"
   ]
  },
  {
   "cell_type": "code",
   "execution_count": null,
   "metadata": {},
   "outputs": [],
   "source": [
    "reserves_comp = reserves_comp[reserves_comp['cmpLongName']==company]\n",
    "reserves_comp.drop(['cmpLongName', 'cmpDateOffResEstDisplay', 'fldNpdidField', 'cmpNpdidCompany'], axis=1, inplace=True)\n",
    "reserves_comp.loc['Total'] = reserves_comp.sum(numeric_only=True, axis=0)\n",
    "reserves_comp.to_csv('reserves_company.csv', index=False)\n",
    "reserves_comp"
   ]
  },
  {
   "cell_type": "markdown",
   "metadata": {},
   "source": [
    "## Display total reserves for each field - not company share."
   ]
  },
  {
   "cell_type": "code",
   "execution_count": null,
   "metadata": {},
   "outputs": [],
   "source": [
    "company_reserves = calculate(company_fields, reserves)\n",
    "company_reserves.to_csv('reserves_all.csv', index=False)\n",
    "company_reserves"
   ]
  },
  {
   "cell_type": "markdown",
   "metadata": {},
   "source": [
    "# Overview"
   ]
  },
  {
   "cell_type": "code",
   "execution_count": null,
   "metadata": {},
   "outputs": [],
   "source": [
    "overview = load(fields[0])"
   ]
  },
  {
   "cell_type": "markdown",
   "metadata": {},
   "source": [
    "## Breakdown of all fields on the NCS"
   ]
  },
  {
   "cell_type": "code",
   "execution_count": null,
   "metadata": {},
   "outputs": [],
   "source": [
    "overview.groupby('fldCurrentActivitySatus').size().plot(kind='bar', figsize=(10,6), fontsize=18)\n",
    "plt.savefig('All Fields.png'); plt.show()"
   ]
  },
  {
   "cell_type": "code",
   "execution_count": null,
   "metadata": {},
   "outputs": [],
   "source": [
    "producing_fields = overview[overview['fldCurrentActivitySatus']=='Producing']['cmpLongName'].value_counts()\n",
    "producing_approved_fields = overview[overview['fldCurrentActivitySatus'].isin(['Approved for production'])]['cmpLongName'].value_counts()\n",
    "shutdown_fields = overview[overview['fldCurrentActivitySatus']==\"Shut down\"]['cmpLongName'].value_counts()\n",
    "\n",
    "print(f\"Number of fields: {overview.shape[0]}\")\n",
    "print(f\"Number of producing fields: {producing_fields.sum()}\")\n",
    "print(f\"Number of producing and approved fields: {producing_approved_fields.sum()}\")\n",
    "print(f\"Number of shut down fields: {shutdown_fields.sum()}\") # doesn't include 3 NaN entries"
   ]
  },
  {
   "cell_type": "markdown",
   "metadata": {},
   "source": [
    "## Status of Fields by Area"
   ]
  },
  {
   "cell_type": "code",
   "execution_count": null,
   "metadata": {},
   "outputs": [],
   "source": [
    "data = overview.groupby(['fldMainArea', 'fldCurrentActivitySatus']).size().unstack()\n",
    "data.loc['Column Total'] = data.sum(numeric_only=True, axis=0)\n",
    "print(data)\n",
    "data.plot(kind='bar', figsize=(15,6), fontsize=22)\n",
    "plt.savefig('Fields by Area.png'); plt.show()"
   ]
  },
  {
   "cell_type": "markdown",
   "metadata": {},
   "source": [
    "# Backup"
   ]
  },
  {
   "cell_type": "markdown",
   "metadata": {},
   "source": [
    "# Status"
   ]
  },
  {
   "cell_type": "code",
   "execution_count": null,
   "metadata": {},
   "outputs": [],
   "source": [
    "status = load(fields[1])"
   ]
  },
  {
   "cell_type": "code",
   "execution_count": null,
   "metadata": {},
   "outputs": [],
   "source": [
    "# status.head()"
   ]
  },
  {
   "cell_type": "code",
   "execution_count": null,
   "metadata": {},
   "outputs": [],
   "source": [
    "status.dropna(inplace=True)\n",
    "status = status.loc[status.groupby('fldName').fldStatusToDate.idxmax(),:]"
   ]
  },
  {
   "cell_type": "code",
   "execution_count": null,
   "metadata": {},
   "outputs": [],
   "source": [
    "status['fldStatus'].value_counts()\n",
    "#  the headings and values look transposed"
   ]
  },
  {
   "cell_type": "code",
   "execution_count": null,
   "metadata": {},
   "outputs": [],
   "source": [
    "status['fldName'].nunique()"
   ]
  },
  {
   "cell_type": "markdown",
   "metadata": {},
   "source": [
    "# Operators"
   ]
  },
  {
   "cell_type": "code",
   "execution_count": null,
   "metadata": {},
   "outputs": [],
   "source": [
    "operators = load(fields[2])"
   ]
  },
  {
   "cell_type": "code",
   "execution_count": null,
   "metadata": {},
   "outputs": [],
   "source": [
    "print(f\" Number of Operators: {operators['cmpLongName'].nunique()}\")\n",
    "print(f\" Number of Fields: {operators['fldName'].nunique()}\")"
   ]
  },
  {
   "cell_type": "code",
   "execution_count": null,
   "metadata": {},
   "outputs": [],
   "source": [
    "# Current Operators don't have a date in the 'fldOperatorTo' field\n",
    "operators[operators['fldOperatorTo'].isnull()]['cmpLongName'].value_counts() # 121 - doesn't include NaN"
   ]
  },
  {
   "cell_type": "markdown",
   "metadata": {},
   "source": [
    "# Description"
   ]
  },
  {
   "cell_type": "code",
   "execution_count": null,
   "metadata": {},
   "outputs": [],
   "source": [
    "description = load(fields[7])"
   ]
  },
  {
   "cell_type": "code",
   "execution_count": null,
   "metadata": {},
   "outputs": [],
   "source": [
    "description.head()"
   ]
  },
  {
   "cell_type": "code",
   "execution_count": null,
   "metadata": {},
   "outputs": [],
   "source": []
  }
 ],
 "metadata": {
  "kernelspec": {
   "display_name": "Python 3",
   "language": "python",
   "name": "python3"
  },
  "language_info": {
   "codemirror_mode": {
    "name": "ipython",
    "version": 3
   },
   "file_extension": ".py",
   "mimetype": "text/x-python",
   "name": "python",
   "nbconvert_exporter": "python",
   "pygments_lexer": "ipython3",
   "version": "3.8.5"
  }
 },
 "nbformat": 4,
 "nbformat_minor": 4
}
